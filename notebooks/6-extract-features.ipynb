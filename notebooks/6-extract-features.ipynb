{
 "cells": [
  {
   "cell_type": "markdown",
   "metadata": {},
   "source": [
    "# Features extraction"
   ]
  },
  {
   "cell_type": "markdown",
   "metadata": {},
   "source": [
    "Now, let's extract features for our model. We will extract the following features from the URLs:\n",
    "\n",
    "- **Domain**: Domain name extracted from the URL.\n",
    "- **DomainCharContinuationRate**: Ratio of the number of continuous characters in the domain.\n",
    "- **DomainLength**: Number of characters in the domain name.\n",
    "- **IsIP**: Indicates if the hostname is an IP address.\n",
    "- **TLD**: TLD (Top Level Domain) is the last part of the domain name, such as .com or .edu.\n",
    "- **TLDLength**: Number of characters in the TLD.\n",
    "- **NoOfSubDomain**: Number of subdomains in the URL.\n",
    "- **NoOfLetters**: Number of letters in the domain.\n",
    "- **LetterRatio**: Ratio of letters in the domain.\n",
    "- **NoOfDigits**: Number of digits in the domain.\n",
    "- **DigitRatio**: Ratio of digits in the domain.\n",
    "- **IsHTTPS**: Indicates if the webpage is running on unsecured HTTP (hypertext transfer protocol) or secured HTTPS.\n",
    "\n",
    "**Notes**:\n",
    "\n",
    "- We need to differentiate between URL and domain. For example, in the URL `https://www.google.com/search?q=python`, the domain is `www.google.com`. This can be referred to as the hostname. The domain is also commonly used to talk about the base/root/apex domain (google.com).\n",
    "- Due to disparities in the dataset, some features may not be applicable to all URLs. For example, most URLs in the dataset do not contain query parameters, which makes the `NoOfEqualsInURL`, `NoOfQMarkInURL`, and `NoOfAmpersandInURL` features less useful.\n",
    "- Boolean features are converted to numerical values (0=False; 1=True)."
   ]
  },
  {
   "cell_type": "markdown",
   "metadata": {},
   "source": [
    "## Utility functions"
   ]
  },
  {
   "cell_type": "code",
   "execution_count": null,
   "metadata": {},
   "outputs": [],
   "source": [
    "import re\n",
    "from urllib.parse import urlparse"
   ]
  },
  {
   "cell_type": "code",
   "execution_count": null,
   "metadata": {},
   "outputs": [
    {
     "name": "stdout",
     "output_type": "stream",
     "text": [
      "0\n",
      "1\n",
      "1\n"
     ]
    }
   ],
   "source": [
    "def is_ip(domain):\n",
    "    # This regex will match any sequence of four numbers separated by dots. This is a simple way to check if a string is an IP address.\n",
    "    # However, it doesn't strictly validate IP addresses. For example, it will match 999.999.999.999, which is not a valid IP address.\n",
    "    ip_pattern = r'\\d{1,3}\\.\\d{1,3}\\.\\d{1,3}\\.\\d{1,3}'\n",
    "    value = bool(re.search(ip_pattern, domain))\n",
    "    return int(value)\n",
    "\n",
    "\n",
    "print(is_ip('www.google.com'))  # 0\n",
    "print(is_ip('192.168.1.1'))  # 1\n",
    "print(is_ip('999.999.999.999'))  # 1 (True, but it's not a valid IP address)"
   ]
  },
  {
   "cell_type": "code",
   "execution_count": null,
   "metadata": {},
   "outputs": [
    {
     "name": "stdout",
     "output_type": "stream",
     "text": [
      "1\n",
      "0\n",
      "0\n"
     ]
    }
   ],
   "source": [
    "def no_of_subdomain(domain):\n",
    "    # IP addresses are not domain names, thus they don't have subdomains. \n",
    "    # Subdomains are part of the DNS hierarchy and are only used in domain names.\n",
    "    if is_ip(domain):\n",
    "        return 0\n",
    "\n",
    "    domains = domain.split('.')\n",
    "    return len(domains) - 2  # Subtract apex domain and TLD\n",
    "\n",
    "\n",
    "print(no_of_subdomain('docs.python.org'))  # 1\n",
    "print(no_of_subdomain('google.com'))  # 0\n",
    "print(no_of_subdomain('192.168.1.1'))  # 0"
   ]
  },
  {
   "cell_type": "code",
   "execution_count": null,
   "metadata": {},
   "outputs": [],
   "source": [
    "# https://github.com/arvindbitm/PhiUSIIL/blob/main/CharConRate.ipynb\n",
    "\n",
    "def char_con_rate(url):\n",
    "    ln = len(url)\n",
    "    chC, nmC, spC = 0, 0, 0\n",
    "    maxCh, maxNm, MaxSp = 0, 0, 0\n",
    "    for i in range(0, ln):\n",
    "        ch = url[i]\n",
    "        if ch.isalpha():\n",
    "            chC = chC + 1\n",
    "            if (nmC > 0):\n",
    "                if (maxNm < nmC):\n",
    "                    maxNm = nmC\n",
    "                    nmC = 0\n",
    "            elif (spC > 0):\n",
    "                if (MaxSp < spC):\n",
    "                    MaxSp = spC\n",
    "                    spC = 0\n",
    "            nmC, spC = 0, 0\n",
    "\n",
    "        elif ch.isdigit():\n",
    "            nmC = nmC + 1\n",
    "            if (chC > 0):\n",
    "                if (maxCh < chC):\n",
    "                    maxCh = chC\n",
    "                    chC = 0\n",
    "            elif (spC > 0):\n",
    "                if (MaxSp < spC):\n",
    "                    MaxSp = spC\n",
    "                    spC = 0\n",
    "            chC, spC = 0, 0\n",
    "        else:\n",
    "            spC = spC + 1\n",
    "            if (nmC > 0):\n",
    "                if (maxNm < nmC):\n",
    "                    maxNm = nmC\n",
    "                    nmC = 0\n",
    "            elif (chC > 0):\n",
    "                if (maxCh < chC):\n",
    "                    maxCh = chC\n",
    "                    chC = 0\n",
    "            nmC, chC = 0, 0\n",
    "\n",
    "    if (maxCh < chC):\n",
    "        maxCh = chC\n",
    "    if (maxNm < nmC):\n",
    "        maxNm = nmC\n",
    "    if (MaxSp < spC):\n",
    "        MaxSp = spC\n",
    "    return (maxCh + maxNm + MaxSp) / ln"
   ]
  },
  {
   "cell_type": "code",
   "execution_count": null,
   "metadata": {},
   "outputs": [
    {
     "name": "stdout",
     "output_type": "stream",
     "text": [
      "0\n",
      "1\n"
     ]
    }
   ],
   "source": [
    "def no_of_foo_in(string, pattern):\n",
    "    \"\"\"\n",
    "    Counts the number of occurrences of a given pattern in a string.\n",
    "\n",
    "    Parameters:\n",
    "    - string (str): The input string to search for matches.\n",
    "    - pattern (str): The pattern to search for in the input string.\n",
    "\n",
    "    Returns:\n",
    "    - int: The number of matches found.\n",
    "\n",
    "    Example:\n",
    "    >>> no_of_foo_in(\"https://facebook.com?param=value\", r\"=\")\n",
    "    1\n",
    "    \"\"\"\n",
    "    # Find all matches of the pattern in the URL\n",
    "    matches = re.findall(pattern, string)\n",
    "    return len(matches)\n",
    "\n",
    "\n",
    "print(no_of_foo_in('https://facebook.com', r'\\?'))\n",
    "print(no_of_foo_in('https://facebook.com?param=value', r'\\?'))"
   ]
  },
  {
   "cell_type": "code",
   "execution_count": null,
   "metadata": {},
   "outputs": [],
   "source": [
    "def extract_domain(url):\n",
    "    parsed_url = urlparse(url)\n",
    "    domain = parsed_url.netloc\n",
    "\n",
    "    # Handle URLs without schemes\n",
    "    if not domain:\n",
    "        domain = url.split('/')[0]\n",
    "\n",
    "        # Handle URLs with ports\n",
    "        if ':' in domain:\n",
    "            domain = domain.split(':')[0]\n",
    "\n",
    "    return domain"
   ]
  },
  {
   "cell_type": "code",
   "execution_count": null,
   "metadata": {},
   "outputs": [],
   "source": [
    "def extract_feature(url):\n",
    "    domain = extract_domain(url)\n",
    "    is_hostname_ip = is_ip(domain)\n",
    "\n",
    "    if is_hostname_ip:\n",
    "        return {\n",
    "            'domain': domain,\n",
    "            'domain_char_continuation_rate': None,\n",
    "            'domain_length': len(domain),\n",
    "            'is_ip': int(is_hostname_ip),\n",
    "            'tld': None,\n",
    "            'tld_length': None,\n",
    "            'no_of_subdomain': 0,\n",
    "            'no_of_letters': no_of_foo_in(url, r'[a-zA-Z]'),\n",
    "            'letter_ratio': no_of_foo_in(url, r'[a-zA-Z]') / len(url),\n",
    "            'no_of_digits': no_of_foo_in(url, r'\\d'),\n",
    "            'digit_ratio': no_of_foo_in(url, r'\\d') / len(url),\n",
    "            'is_https': int(False),\n",
    "        }\n",
    "\n",
    "    print(domain)\n",
    "    root_domain = domain.split('.')[-2]\n",
    "    tld = domain.split('.')[-1]\n",
    "    tld_length = len(tld)\n",
    "    is_https = url.startswith('https://')\n",
    "\n",
    "    return {\n",
    "        'domain': domain,\n",
    "        'domain_char_continuation_rate': char_con_rate(domain.split('.')[-2]),\n",
    "        # Extract the root domain name without the TLD\n",
    "        'domain_length': len(domain),\n",
    "        'is_ip': int(is_hostname_ip),\n",
    "        'tld': tld,\n",
    "        'tld_length': tld_length,\n",
    "        'no_of_subdomain': no_of_subdomain(domain),\n",
    "        'no_of_letters': no_of_foo_in(root_domain, r'[a-zA-Z]'),\n",
    "        'letter_ratio': no_of_foo_in(root_domain, r'[a-zA-Z]') / len(root_domain),\n",
    "        'no_of_digits': no_of_foo_in(root_domain, r'\\d'),\n",
    "        'digit_ratio': no_of_foo_in(root_domain, r'\\d') / len(root_domain),\n",
    "        'is_https': int(is_https),\n",
    "    }"
   ]
  },
  {
   "cell_type": "code",
   "execution_count": null,
   "metadata": {},
   "outputs": [
    {
     "name": "stdout",
     "output_type": "stream",
     "text": [
      "8881\n"
     ]
    },
    {
     "ename": "IndexError",
     "evalue": "list index out of range",
     "output_type": "error",
     "traceback": [
      "\u001b[0;31m---------------------------------------------------------------------------\u001b[0m",
      "\u001b[0;31mIndexError\u001b[0m                                Traceback (most recent call last)",
      "Cell \u001b[0;32mIn[30], line 1\u001b[0m\n\u001b[0;32m----> 1\u001b[0m \u001b[43mextract_feature\u001b[49m\u001b[43m(\u001b[49m\u001b[38;5;124;43m'\u001b[39;49m\u001b[38;5;124;43mdigitool.amherst.edu:8881/dtl_publish/119/377562.html\u001b[39;49m\u001b[38;5;124;43m'\u001b[39;49m\u001b[43m)\u001b[49m\n",
      "Cell \u001b[0;32mIn[29], line 22\u001b[0m, in \u001b[0;36mextract_feature\u001b[0;34m(url)\u001b[0m\n\u001b[1;32m      6\u001b[0m     \u001b[38;5;28;01mreturn\u001b[39;00m {\n\u001b[1;32m      7\u001b[0m         \u001b[38;5;124m'\u001b[39m\u001b[38;5;124mdomain\u001b[39m\u001b[38;5;124m'\u001b[39m: domain,\n\u001b[1;32m      8\u001b[0m         \u001b[38;5;124m'\u001b[39m\u001b[38;5;124mdomain_char_continuation_rate\u001b[39m\u001b[38;5;124m'\u001b[39m: \u001b[38;5;28;01mNone\u001b[39;00m,\n\u001b[0;32m   (...)\u001b[0m\n\u001b[1;32m     18\u001b[0m         \u001b[38;5;124m'\u001b[39m\u001b[38;5;124mis_https\u001b[39m\u001b[38;5;124m'\u001b[39m: \u001b[38;5;28mint\u001b[39m(\u001b[38;5;28;01mFalse\u001b[39;00m),\n\u001b[1;32m     19\u001b[0m     }\n\u001b[1;32m     21\u001b[0m \u001b[38;5;28mprint\u001b[39m(domain)\n\u001b[0;32m---> 22\u001b[0m root_domain \u001b[38;5;241m=\u001b[39m \u001b[43mdomain\u001b[49m\u001b[38;5;241;43m.\u001b[39;49m\u001b[43msplit\u001b[49m\u001b[43m(\u001b[49m\u001b[38;5;124;43m'\u001b[39;49m\u001b[38;5;124;43m.\u001b[39;49m\u001b[38;5;124;43m'\u001b[39;49m\u001b[43m)\u001b[49m\u001b[43m[\u001b[49m\u001b[38;5;241;43m-\u001b[39;49m\u001b[38;5;241;43m2\u001b[39;49m\u001b[43m]\u001b[49m\n\u001b[1;32m     23\u001b[0m tld \u001b[38;5;241m=\u001b[39m domain\u001b[38;5;241m.\u001b[39msplit(\u001b[38;5;124m'\u001b[39m\u001b[38;5;124m.\u001b[39m\u001b[38;5;124m'\u001b[39m)[\u001b[38;5;241m-\u001b[39m\u001b[38;5;241m1\u001b[39m]\n\u001b[1;32m     24\u001b[0m tld_length \u001b[38;5;241m=\u001b[39m \u001b[38;5;28mlen\u001b[39m(tld)\n",
      "\u001b[0;31mIndexError\u001b[0m: list index out of range"
     ]
    }
   ],
   "source": [
    "extract_feature('digitool.amherst.edu:8881/dtl_publish/119/377562.html')"
   ]
  },
  {
   "cell_type": "code",
   "execution_count": null,
   "metadata": {},
   "outputs": [
    {
     "data": {
      "text/plain": [
       "{'domain': 'www.google.com',\n",
       " 'domain_char_continuation_rate': 1.0,\n",
       " 'domain_length': 14,\n",
       " 'is_ip': 0,\n",
       " 'tld': 'com',\n",
       " 'tld_length': 3,\n",
       " 'no_of_subdomain': 1,\n",
       " 'no_of_letters': 6,\n",
       " 'letter_ratio': 1.0,\n",
       " 'no_of_digits': 0,\n",
       " 'digit_ratio': 0.0,\n",
       " 'is_https': 1}"
      ]
     },
     "execution_count": null,
     "metadata": {},
     "output_type": "execute_result"
    }
   ],
   "source": [
    "extract_feature('https://www.google.com/search?q=alan+turing')"
   ]
  },
  {
   "cell_type": "code",
   "execution_count": null,
   "metadata": {},
   "outputs": [
    {
     "data": {
      "text/plain": [
       "{'domain': 'example.com',\n",
       " 'domain_char_continuation_rate': 1.0,\n",
       " 'domain_length': 11,\n",
       " 'is_ip': 0,\n",
       " 'tld': 'com',\n",
       " 'tld_length': 3,\n",
       " 'no_of_subdomain': 0,\n",
       " 'no_of_letters': 7,\n",
       " 'letter_ratio': 1.0,\n",
       " 'no_of_digits': 0,\n",
       " 'digit_ratio': 0.0,\n",
       " 'is_https': 0}"
      ]
     },
     "execution_count": null,
     "metadata": {},
     "output_type": "execute_result"
    }
   ],
   "source": [
    "extract_feature('example.com')"
   ]
  },
  {
   "cell_type": "markdown",
   "metadata": {},
   "source": [
    "## Load the dataset"
   ]
  },
  {
   "cell_type": "code",
   "execution_count": null,
   "metadata": {},
   "outputs": [],
   "source": [
    "import pandas as pd\n",
    "import glob"
   ]
  },
  {
   "cell_type": "code",
   "execution_count": null,
   "metadata": {},
   "outputs": [],
   "source": [
    "folder_path = \"../data/raw\""
   ]
  },
  {
   "cell_type": "code",
   "execution_count": null,
   "metadata": {},
   "outputs": [],
   "source": [
    "csv_files = glob.glob(folder_path + \"/is_url_live_chunk_*.csv\")"
   ]
  },
  {
   "cell_type": "code",
   "execution_count": null,
   "metadata": {},
   "outputs": [],
   "source": [
    "df_list = []\n",
    "\n",
    "for file in csv_files:\n",
    "    df = pd.read_csv(file, index_col='id')\n",
    "    df_list.append(df)\n",
    "\n",
    "df = pd.concat(df_list, ignore_index=False)"
   ]
  },
  {
   "cell_type": "code",
   "execution_count": null,
   "metadata": {},
   "outputs": [
    {
     "data": {
      "text/html": [
       "<div>\n",
       "<style scoped>\n",
       "    .dataframe tbody tr th:only-of-type {\n",
       "        vertical-align: middle;\n",
       "    }\n",
       "\n",
       "    .dataframe tbody tr th {\n",
       "        vertical-align: top;\n",
       "    }\n",
       "\n",
       "    .dataframe thead th {\n",
       "        text-align: right;\n",
       "    }\n",
       "</style>\n",
       "<table border=\"1\" class=\"dataframe\">\n",
       "  <thead>\n",
       "    <tr style=\"text-align: right;\">\n",
       "      <th></th>\n",
       "      <th>source_id</th>\n",
       "      <th>url</th>\n",
       "      <th>is_phishing</th>\n",
       "      <th>is_online</th>\n",
       "      <th>created_at</th>\n",
       "      <th>updated_at</th>\n",
       "    </tr>\n",
       "    <tr>\n",
       "      <th>id</th>\n",
       "      <th></th>\n",
       "      <th></th>\n",
       "      <th></th>\n",
       "      <th></th>\n",
       "      <th></th>\n",
       "      <th></th>\n",
       "    </tr>\n",
       "  </thead>\n",
       "  <tbody>\n",
       "    <tr>\n",
       "      <th>11</th>\n",
       "      <td>1</td>\n",
       "      <td>https://www.religionenlibertad.com</td>\n",
       "      <td>False</td>\n",
       "      <td>True</td>\n",
       "      <td>2024-11-15 12:44:55.549064</td>\n",
       "      <td>2024-11-15 12:49:03.015624</td>\n",
       "    </tr>\n",
       "    <tr>\n",
       "      <th>12</th>\n",
       "      <td>1</td>\n",
       "      <td>http://www.teramill.com</td>\n",
       "      <td>True</td>\n",
       "      <td>True</td>\n",
       "      <td>2024-11-15 12:44:55.549064</td>\n",
       "      <td>2024-11-15 12:49:03.570896</td>\n",
       "    </tr>\n",
       "    <tr>\n",
       "      <th>13</th>\n",
       "      <td>1</td>\n",
       "      <td>https://www.socialpolicy.org</td>\n",
       "      <td>False</td>\n",
       "      <td>True</td>\n",
       "      <td>2024-11-15 12:44:55.549064</td>\n",
       "      <td>2024-11-15 12:49:04.900914</td>\n",
       "    </tr>\n",
       "    <tr>\n",
       "      <th>14</th>\n",
       "      <td>1</td>\n",
       "      <td>https://www.aoh61.com</td>\n",
       "      <td>False</td>\n",
       "      <td>False</td>\n",
       "      <td>2024-11-15 12:44:55.549064</td>\n",
       "      <td>2024-11-15 12:49:12.032484</td>\n",
       "    </tr>\n",
       "    <tr>\n",
       "      <th>15</th>\n",
       "      <td>1</td>\n",
       "      <td>https://www.bulgariaski.com</td>\n",
       "      <td>False</td>\n",
       "      <td>True</td>\n",
       "      <td>2024-11-15 12:44:55.549064</td>\n",
       "      <td>2024-11-15 12:49:13.439163</td>\n",
       "    </tr>\n",
       "  </tbody>\n",
       "</table>\n",
       "</div>"
      ],
      "text/plain": [
       "    source_id                                 url  is_phishing  is_online  \\\n",
       "id                                                                          \n",
       "11          1  https://www.religionenlibertad.com        False       True   \n",
       "12          1             http://www.teramill.com         True       True   \n",
       "13          1        https://www.socialpolicy.org        False       True   \n",
       "14          1               https://www.aoh61.com        False      False   \n",
       "15          1         https://www.bulgariaski.com        False       True   \n",
       "\n",
       "                    created_at                  updated_at  \n",
       "id                                                          \n",
       "11  2024-11-15 12:44:55.549064  2024-11-15 12:49:03.015624  \n",
       "12  2024-11-15 12:44:55.549064  2024-11-15 12:49:03.570896  \n",
       "13  2024-11-15 12:44:55.549064  2024-11-15 12:49:04.900914  \n",
       "14  2024-11-15 12:44:55.549064  2024-11-15 12:49:12.032484  \n",
       "15  2024-11-15 12:44:55.549064  2024-11-15 12:49:13.439163  "
      ]
     },
     "execution_count": null,
     "metadata": {},
     "output_type": "execute_result"
    }
   ],
   "source": [
    "df.head()"
   ]
  },
  {
   "cell_type": "markdown",
   "metadata": {},
   "source": [
    "## Extract features"
   ]
  },
  {
   "cell_type": "code",
   "execution_count": null,
   "metadata": {},
   "outputs": [],
   "source": [
    "def apply_extract_feature(row):\n",
    "    try:\n",
    "        features = extract_feature(row['url'])\n",
    "        new_row = row.to_dict()\n",
    "        new_row.update(features)\n",
    "    except Exception as e:\n",
    "        print(f\"Error processing URL: {row['url']}, {e}\")\n",
    "        new_row = row.to_dict()\n",
    "    return pd.Series(new_row)\n",
    "\n",
    "\n",
    "processed_df = df.apply(apply_extract_feature, axis=1)"
   ]
  },
  {
   "cell_type": "code",
   "execution_count": null,
   "metadata": {},
   "outputs": [],
   "source": [
    "# Drop some columns\n",
    "processed_df.drop(['source_id', 'is_online', 'created_at', 'updated_at'], axis=1, inplace=True)"
   ]
  },
  {
   "cell_type": "code",
   "execution_count": null,
   "metadata": {},
   "outputs": [],
   "source": [
    "# Convert boolean columns to integers\n",
    "processed_df['is_phishing'] = processed_df['is_phishing'].astype(int)"
   ]
  },
  {
   "cell_type": "code",
   "execution_count": null,
   "metadata": {},
   "outputs": [
    {
     "data": {
      "text/html": [
       "<div>\n",
       "<style scoped>\n",
       "    .dataframe tbody tr th:only-of-type {\n",
       "        vertical-align: middle;\n",
       "    }\n",
       "\n",
       "    .dataframe tbody tr th {\n",
       "        vertical-align: top;\n",
       "    }\n",
       "\n",
       "    .dataframe thead th {\n",
       "        text-align: right;\n",
       "    }\n",
       "</style>\n",
       "<table border=\"1\" class=\"dataframe\">\n",
       "  <thead>\n",
       "    <tr style=\"text-align: right;\">\n",
       "      <th></th>\n",
       "      <th>url</th>\n",
       "      <th>is_phishing</th>\n",
       "      <th>domain</th>\n",
       "      <th>domain_char_continuation_rate</th>\n",
       "      <th>domain_length</th>\n",
       "      <th>is_ip</th>\n",
       "      <th>tld</th>\n",
       "      <th>tld_length</th>\n",
       "      <th>no_of_subdomain</th>\n",
       "      <th>no_of_letters</th>\n",
       "      <th>letter_ratio</th>\n",
       "      <th>no_of_digits</th>\n",
       "      <th>digit_ratio</th>\n",
       "      <th>is_https</th>\n",
       "    </tr>\n",
       "    <tr>\n",
       "      <th>id</th>\n",
       "      <th></th>\n",
       "      <th></th>\n",
       "      <th></th>\n",
       "      <th></th>\n",
       "      <th></th>\n",
       "      <th></th>\n",
       "      <th></th>\n",
       "      <th></th>\n",
       "      <th></th>\n",
       "      <th></th>\n",
       "      <th></th>\n",
       "      <th></th>\n",
       "      <th></th>\n",
       "      <th></th>\n",
       "    </tr>\n",
       "  </thead>\n",
       "  <tbody>\n",
       "    <tr>\n",
       "      <th>11</th>\n",
       "      <td>https://www.religionenlibertad.com</td>\n",
       "      <td>0</td>\n",
       "      <td>www.religionenlibertad.com</td>\n",
       "      <td>1.0</td>\n",
       "      <td>26</td>\n",
       "      <td>0</td>\n",
       "      <td>com</td>\n",
       "      <td>3.0</td>\n",
       "      <td>1</td>\n",
       "      <td>18</td>\n",
       "      <td>1.0</td>\n",
       "      <td>0</td>\n",
       "      <td>0.0</td>\n",
       "      <td>1</td>\n",
       "    </tr>\n",
       "    <tr>\n",
       "      <th>12</th>\n",
       "      <td>http://www.teramill.com</td>\n",
       "      <td>1</td>\n",
       "      <td>www.teramill.com</td>\n",
       "      <td>1.0</td>\n",
       "      <td>16</td>\n",
       "      <td>0</td>\n",
       "      <td>com</td>\n",
       "      <td>3.0</td>\n",
       "      <td>1</td>\n",
       "      <td>8</td>\n",
       "      <td>1.0</td>\n",
       "      <td>0</td>\n",
       "      <td>0.0</td>\n",
       "      <td>0</td>\n",
       "    </tr>\n",
       "    <tr>\n",
       "      <th>13</th>\n",
       "      <td>https://www.socialpolicy.org</td>\n",
       "      <td>0</td>\n",
       "      <td>www.socialpolicy.org</td>\n",
       "      <td>1.0</td>\n",
       "      <td>20</td>\n",
       "      <td>0</td>\n",
       "      <td>org</td>\n",
       "      <td>3.0</td>\n",
       "      <td>1</td>\n",
       "      <td>12</td>\n",
       "      <td>1.0</td>\n",
       "      <td>0</td>\n",
       "      <td>0.0</td>\n",
       "      <td>1</td>\n",
       "    </tr>\n",
       "    <tr>\n",
       "      <th>14</th>\n",
       "      <td>https://www.aoh61.com</td>\n",
       "      <td>0</td>\n",
       "      <td>www.aoh61.com</td>\n",
       "      <td>1.0</td>\n",
       "      <td>13</td>\n",
       "      <td>0</td>\n",
       "      <td>com</td>\n",
       "      <td>3.0</td>\n",
       "      <td>1</td>\n",
       "      <td>3</td>\n",
       "      <td>0.6</td>\n",
       "      <td>2</td>\n",
       "      <td>0.4</td>\n",
       "      <td>1</td>\n",
       "    </tr>\n",
       "    <tr>\n",
       "      <th>15</th>\n",
       "      <td>https://www.bulgariaski.com</td>\n",
       "      <td>0</td>\n",
       "      <td>www.bulgariaski.com</td>\n",
       "      <td>1.0</td>\n",
       "      <td>19</td>\n",
       "      <td>0</td>\n",
       "      <td>com</td>\n",
       "      <td>3.0</td>\n",
       "      <td>1</td>\n",
       "      <td>11</td>\n",
       "      <td>1.0</td>\n",
       "      <td>0</td>\n",
       "      <td>0.0</td>\n",
       "      <td>1</td>\n",
       "    </tr>\n",
       "  </tbody>\n",
       "</table>\n",
       "</div>"
      ],
      "text/plain": [
       "                                   url  is_phishing  \\\n",
       "id                                                    \n",
       "11  https://www.religionenlibertad.com            0   \n",
       "12             http://www.teramill.com            1   \n",
       "13        https://www.socialpolicy.org            0   \n",
       "14               https://www.aoh61.com            0   \n",
       "15         https://www.bulgariaski.com            0   \n",
       "\n",
       "                        domain  domain_char_continuation_rate  domain_length  \\\n",
       "id                                                                             \n",
       "11  www.religionenlibertad.com                            1.0             26   \n",
       "12            www.teramill.com                            1.0             16   \n",
       "13        www.socialpolicy.org                            1.0             20   \n",
       "14               www.aoh61.com                            1.0             13   \n",
       "15         www.bulgariaski.com                            1.0             19   \n",
       "\n",
       "    is_ip  tld  tld_length  no_of_subdomain  no_of_letters  letter_ratio  \\\n",
       "id                                                                         \n",
       "11      0  com         3.0                1             18           1.0   \n",
       "12      0  com         3.0                1              8           1.0   \n",
       "13      0  org         3.0                1             12           1.0   \n",
       "14      0  com         3.0                1              3           0.6   \n",
       "15      0  com         3.0                1             11           1.0   \n",
       "\n",
       "    no_of_digits  digit_ratio  is_https  \n",
       "id                                       \n",
       "11             0          0.0         1  \n",
       "12             0          0.0         0  \n",
       "13             0          0.0         1  \n",
       "14             2          0.4         1  \n",
       "15             0          0.0         1  "
      ]
     },
     "execution_count": null,
     "metadata": {},
     "output_type": "execute_result"
    }
   ],
   "source": [
    "processed_df.head()"
   ]
  },
  {
   "cell_type": "code",
   "execution_count": null,
   "metadata": {},
   "outputs": [],
   "source": [
    "from datetime import datetime\n",
    "\n",
    "output_file = f'../data/data_{datetime.now().strftime(\"%Y-%m-%d_%H:%M:%S\")}.csv'\n",
    "processed_df.to_csv(output_file, index=False)"
   ]
  }
 ],
 "metadata": {
  "kernelspec": {
   "display_name": "Python 3 (ipykernel)",
   "language": "python",
   "name": "python3"
  }
 },
 "nbformat": 4,
 "nbformat_minor": 2
}
