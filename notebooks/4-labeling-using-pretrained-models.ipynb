{
 "cells": [
  {
   "cell_type": "markdown",
   "metadata": {},
   "source": [
    "# Labeling using pretrained models"
   ]
  },
  {
   "cell_type": "markdown",
   "metadata": {},
   "source": [
    "## OpenAI GPT-4\n",
    "\n",
    "### Introduction\n",
    "\n",
    "OpenAI's provides pretrained models that can be used for a variety of tasks. We can use these models to label the data without providing any examples (zero-shot classification).\n",
    "\n",
    "#### Why GPT-4?\n",
    "\n",
    "Someone may asks, \"Why not use GPT-3?\". The reason is that GPT-4 has a bigger context window and we absolutely need that to be able to feed entire webpages to the model. We may use GPT-3 for smaller text inputs like meta title or meta description. We might use GPT-4o-mini, it's cheaper while still having a big context window (128k context length — same as GPT-4o). You can learn more about the different models [here](https://platform.openai.com/docs/models).\n",
    "\n",
    "#### Challenges\n",
    "\n",
    "The main challenge is to get the model to output the labels in the desired format. We will leverage [function calling](https://platform.openai.com/docs/guides/function-calling) to ensure [structured output](https://platform.openai.com/docs/guides/structured-outputs) from the model.\n",
    "\n",
    "#### Downsides\n",
    "\n",
    "- Latency. At the end of the day, we are making API calls to OpenAI's servers and this can be slow (relatively speaking).\n",
    "- Cost. OpenAI's API is not free and the cost can add up quickly. But we can optimize the usage by caching the results, stripping the text to the relevant parts only, etc."
   ]
  },
  {
   "cell_type": "markdown",
   "metadata": {},
   "source": [
    "### Install libraries"
   ]
  },
  {
   "cell_type": "code",
   "execution_count": null,
   "metadata": {},
   "outputs": [
    {
     "name": "stdout",
     "output_type": "stream",
     "text": [
      "Requirement already satisfied: openai in /Users/alex/anaconda3/envs/phishing-url/lib/python3.12/site-packages (1.44.1)\n",
      "Requirement already satisfied: python-dotenv in /Users/alex/anaconda3/envs/phishing-url/lib/python3.12/site-packages (1.0.1)\n",
      "Requirement already satisfied: requests in /Users/alex/anaconda3/envs/phishing-url/lib/python3.12/site-packages (2.32.3)\n",
      "Requirement already satisfied: html_sanitizer in /Users/alex/anaconda3/envs/phishing-url/lib/python3.12/site-packages (2.4.4)\n",
      "Requirement already satisfied: anyio<5,>=3.5.0 in /Users/alex/anaconda3/envs/phishing-url/lib/python3.12/site-packages (from openai) (4.2.0)\n",
      "Requirement already satisfied: distro<2,>=1.7.0 in /Users/alex/anaconda3/envs/phishing-url/lib/python3.12/site-packages (from openai) (1.9.0)\n",
      "Requirement already satisfied: httpx<1,>=0.23.0 in /Users/alex/anaconda3/envs/phishing-url/lib/python3.12/site-packages (from openai) (0.27.2)\n",
      "Requirement already satisfied: jiter<1,>=0.4.0 in /Users/alex/anaconda3/envs/phishing-url/lib/python3.12/site-packages (from openai) (0.5.0)\n",
      "Requirement already satisfied: pydantic<3,>=1.9.0 in /Users/alex/anaconda3/envs/phishing-url/lib/python3.12/site-packages (from openai) (2.9.1)\n",
      "Requirement already satisfied: sniffio in /Users/alex/anaconda3/envs/phishing-url/lib/python3.12/site-packages (from openai) (1.3.0)\n",
      "Requirement already satisfied: tqdm>4 in /Users/alex/anaconda3/envs/phishing-url/lib/python3.12/site-packages (from openai) (4.66.5)\n",
      "Requirement already satisfied: typing-extensions<5,>=4.11 in /Users/alex/anaconda3/envs/phishing-url/lib/python3.12/site-packages (from openai) (4.11.0)\n",
      "Requirement already satisfied: charset-normalizer<4,>=2 in /Users/alex/anaconda3/envs/phishing-url/lib/python3.12/site-packages (from requests) (3.3.2)\n",
      "Requirement already satisfied: idna<4,>=2.5 in /Users/alex/anaconda3/envs/phishing-url/lib/python3.12/site-packages (from requests) (3.7)\n",
      "Requirement already satisfied: urllib3<3,>=1.21.1 in /Users/alex/anaconda3/envs/phishing-url/lib/python3.12/site-packages (from requests) (2.2.2)\n",
      "Requirement already satisfied: certifi>=2017.4.17 in /Users/alex/anaconda3/envs/phishing-url/lib/python3.12/site-packages (from requests) (2024.8.30)\n",
      "Requirement already satisfied: beautifulsoup4 in /Users/alex/anaconda3/envs/phishing-url/lib/python3.12/site-packages (from html_sanitizer) (4.12.3)\n",
      "Requirement already satisfied: lxml-html-clean>=0.1 in /Users/alex/anaconda3/envs/phishing-url/lib/python3.12/site-packages (from html_sanitizer) (0.2.2)\n",
      "Requirement already satisfied: lxml>=5.2 in /Users/alex/anaconda3/envs/phishing-url/lib/python3.12/site-packages (from html_sanitizer) (5.3.0)\n",
      "Requirement already satisfied: httpcore==1.* in /Users/alex/anaconda3/envs/phishing-url/lib/python3.12/site-packages (from httpx<1,>=0.23.0->openai) (1.0.5)\n",
      "Requirement already satisfied: h11<0.15,>=0.13 in /Users/alex/anaconda3/envs/phishing-url/lib/python3.12/site-packages (from httpcore==1.*->httpx<1,>=0.23.0->openai) (0.14.0)\n",
      "Requirement already satisfied: annotated-types>=0.6.0 in /Users/alex/anaconda3/envs/phishing-url/lib/python3.12/site-packages (from pydantic<3,>=1.9.0->openai) (0.7.0)\n",
      "Requirement already satisfied: pydantic-core==2.23.3 in /Users/alex/anaconda3/envs/phishing-url/lib/python3.12/site-packages (from pydantic<3,>=1.9.0->openai) (2.23.3)\n",
      "Requirement already satisfied: soupsieve>1.2 in /Users/alex/anaconda3/envs/phishing-url/lib/python3.12/site-packages (from beautifulsoup4->html_sanitizer) (2.5)\n",
      "Note: you may need to restart the kernel to use updated packages.\n"
     ]
    }
   ],
   "source": [
    "%pip install openai python-dotenv requests html_sanitizer"
   ]
  },
  {
   "cell_type": "markdown",
   "metadata": {},
   "source": [
    "### Import libraries"
   ]
  },
  {
   "cell_type": "code",
   "execution_count": null,
   "metadata": {},
   "outputs": [],
   "source": [
    "import os\n",
    "import requests\n",
    "import json\n",
    "from openai import OpenAI\n",
    "from dotenv import load_dotenv\n",
    "from html_sanitizer import Sanitizer"
   ]
  },
  {
   "cell_type": "markdown",
   "metadata": {},
   "source": [
    "### Configuring client"
   ]
  },
  {
   "cell_type": "code",
   "execution_count": null,
   "metadata": {},
   "outputs": [],
   "source": [
    "# Load the API key from the .env file\n",
    "load_dotenv()\n",
    "\n",
    "OPENAI_API_KEY = os.getenv(\"OPENAI_API_KEY\")\n",
    "OPENAI_ORG_ID = os.getenv(\"OPENAI_ORG_ID\")\n",
    "\n",
    "# Create a client\n",
    "client = OpenAI(api_key=OPENAI_API_KEY, organization=OPENAI_ORG_ID)"
   ]
  },
  {
   "cell_type": "markdown",
   "metadata": {},
   "source": [
    "### Functions"
   ]
  },
  {
   "cell_type": "code",
   "execution_count": null,
   "metadata": {},
   "outputs": [],
   "source": [
    "def Bank(guess: bool):\n",
    "    return guess\n",
    "\n",
    "def Pay(guess: bool):\n",
    "    return guess\n",
    "\n",
    "def Crypto(guess: bool):\n",
    "    return guess\n",
    "\n",
    "# \"function definitions\" for the OpenAI API. This helps the model understand what the functions are supposed to do.\n",
    "tools = [\n",
    "    {\n",
    "        \"type\": \"function\",\n",
    "        \"function\": {\n",
    "            \"name\": \"Bank\",\n",
    "            \"description\": \"Determines if the website is a bank.\",\n",
    "            \"parameters\": {\n",
    "                \"type\": \"object\",\n",
    "                \"properties\": {\n",
    "                    \"guess\": {\n",
    "                        \"type\": \"boolean\",\n",
    "                        \"description\": \"The guess of whether the website is a bank.\",\n",
    "                    },\n",
    "                },\n",
    "                \"required\": [\"guess\"],\n",
    "                \"additionalProperties\": False,\n",
    "            },\n",
    "        },\n",
    "    },\n",
    "    {\n",
    "        \"type\": \"function\",\n",
    "        \"function\": {\n",
    "            \"name\": \"Pay\",\n",
    "            \"description\": \"Determines if the page is payment page or ask for payment information.\",\n",
    "            \"parameters\": {\n",
    "                \"type\": \"object\",\n",
    "                \"properties\": {\n",
    "                    \"guess\": {\n",
    "                        \"type\": \"boolean\",\n",
    "                        \"description\": \"The guess of whether the website is a payment processor.\",\n",
    "                    },\n",
    "                },\n",
    "                \"required\": [\"guess\"],\n",
    "                \"additionalProperties\": False,\n",
    "            },\n",
    "        },\n",
    "    },\n",
    "    {\n",
    "        \"type\": \"function\",\n",
    "        \"function\": {\n",
    "            \"name\": \"Crypto\",\n",
    "            \"description\": \"Determines if the page is part of a cryptocurrency website.\",\n",
    "            \"parameters\": {\n",
    "                \"type\": \"object\",\n",
    "                \"properties\": {\n",
    "                    \"guess\": {\n",
    "                        \"type\": \"boolean\",\n",
    "                        \"description\": \"The guess of whether the website is a cryptocurrency website.\",\n",
    "                    },\n",
    "                },\n",
    "                \"required\": [\"guess\"],\n",
    "                \"additionalProperties\": False,\n",
    "            },\n",
    "        },\n",
    "    },\n",
    "]"
   ]
  },
  {
   "cell_type": "markdown",
   "metadata": {},
   "source": [
    "### Labeling"
   ]
  },
  {
   "cell_type": "code",
   "execution_count": null,
   "metadata": {},
   "outputs": [],
   "source": [
    "def label(url: str):\n",
    "    labels = {\n",
    "        \"Bank\": None,\n",
    "        \"Pay\": None,\n",
    "        \"Crypto\": None,\n",
    "    }\n",
    "\n",
    "    # Make HTTP request to the URL and get the HTML content\n",
    "    http_response = requests.get(url)\n",
    "    html = http_response.text\n",
    "\n",
    "    # Sanitize the HTML to ensure it is safe to pass to the model. It also helps to reduce the size of the content.\n",
    "    sanitizer = Sanitizer()\n",
    "    sanitized_html = sanitizer.sanitize(html)\n",
    "\n",
    "    # Prompt the model with the HTML content.\n",
    "    messages = [\n",
    "        {\n",
    "            \"role\": \"system\",\n",
    "            \"content\": \"You are a website security tool. You have been asked to determine if the following websites are banks, payment processors, or cryptocurrency websites.\",\n",
    "        },\n",
    "        {\n",
    "            \"role\": \"user\",\n",
    "            \"content\": f\"This is the HTML of the website: {sanitized_html}\",\n",
    "        },\n",
    "    ]\n",
    "\n",
    "    # Make a request to the OpenAI API\n",
    "    response = client.chat.completions.create(\n",
    "        model=\"gpt-4o\",\n",
    "        messages=messages,\n",
    "        tools=tools,\n",
    "        stream=False,  # Return all messages at once\n",
    "        parallel_tool_calls=True,  # Functions can be called in parallel - no need to be executed sequentially\n",
    "        tool_choice=\"required\",  # Forces the assistant to use the tools\n",
    "        temperature=0.0,  # No randomness/creativity in the responses\n",
    "    )\n",
    "\n",
    "    for choice in response.choices:\n",
    "        if choice.message.tool_calls:\n",
    "            for tool_call in choice.message.tool_calls:\n",
    "                # Arguments are passed as a JSON string\n",
    "                arguments = json.loads(tool_call.function.arguments)\n",
    "                # Assign the guess to the corresponding label. We name the labels as the function names. Convert the guess (boolean) to an integer.\n",
    "                labels[tool_call.function.name] = int(arguments[\"guess\"])\n",
    "\n",
    "    return labels"
   ]
  },
  {
   "cell_type": "code",
   "execution_count": null,
   "metadata": {},
   "outputs": [
    {
     "data": {
      "text/plain": [
       "{'Bank': 0, 'Pay': 0, 'Crypto': 0}"
      ]
     },
     "execution_count": null,
     "metadata": {},
     "output_type": "execute_result"
    }
   ],
   "source": [
    "url = \"https://www.google.com\" # Not a bank, not payment, not crypto\n",
    "\n",
    "label(url)"
   ]
  },
  {
   "cell_type": "code",
   "execution_count": null,
   "metadata": {},
   "outputs": [
    {
     "data": {
      "text/plain": [
       "{'Bank': 1, 'Pay': 0, 'Crypto': 0}"
      ]
     },
     "execution_count": null,
     "metadata": {},
     "output_type": "execute_result"
    }
   ],
   "source": [
    "url = \"https://societegenerale.ci/fr/\" # Bank, not payment, not crypto\n",
    "\n",
    "label(url)"
   ]
  },
  {
   "cell_type": "code",
   "execution_count": null,
   "metadata": {},
   "outputs": [
    {
     "data": {
      "text/plain": [
       "{'Bank': 0, 'Pay': 1, 'Crypto': 0}"
      ]
     },
     "execution_count": null,
     "metadata": {},
     "output_type": "execute_result"
    }
   ],
   "source": [
    "url = \"https://nuxt.lemonsqueezy.com/checkout\"  # Not a bank, payment, not crypto\n",
    "\n",
    "label(url)"
   ]
  },
  {
   "cell_type": "code",
   "execution_count": null,
   "metadata": {},
   "outputs": [
    {
     "data": {
      "text/plain": [
       "{'Bank': 0, 'Pay': 0, 'Crypto': 1}"
      ]
     },
     "execution_count": null,
     "metadata": {},
     "output_type": "execute_result"
    }
   ],
   "source": [
    "url = \"https://www.binance.com/fr\"  # Not a bank, not payment, crypto\n",
    "\n",
    "label(url)"
   ]
  }
 ],
 "metadata": {
  "kernelspec": {
   "display_name": "Python 3 (ipykernel)",
   "language": "python",
   "name": "python3"
  },
  "language_info": {
   "codemirror_mode": {
    "name": "ipython",
    "version": 3
   },
   "file_extension": ".py",
   "mimetype": "text/x-python",
   "name": "python",
   "nbconvert_exporter": "python",
   "pygments_lexer": "ipython3"
  }
 },
 "nbformat": 4,
 "nbformat_minor": 2
}
