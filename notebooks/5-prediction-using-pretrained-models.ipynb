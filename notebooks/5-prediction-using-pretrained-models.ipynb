{
 "cells": [
  {
   "cell_type": "markdown",
   "metadata": {},
   "source": [
    "# Prediction using pretrained models"
   ]
  },
  {
   "cell_type": "markdown",
   "metadata": {},
   "source": [
    "### Install libraries"
   ]
  },
  {
   "cell_type": "code",
   "execution_count": null,
   "metadata": {},
   "outputs": [
    {
     "name": "stdout",
     "output_type": "stream",
     "text": [
      "Requirement already satisfied: openai in /Users/alex/anaconda3/envs/phishing-url/lib/python3.12/site-packages (1.53.0)\r\n",
      "Requirement already satisfied: python-dotenv in /Users/alex/anaconda3/envs/phishing-url/lib/python3.12/site-packages (1.0.1)\r\n",
      "Requirement already satisfied: anyio<5,>=3.5.0 in /Users/alex/anaconda3/envs/phishing-url/lib/python3.12/site-packages (from openai) (4.6.2.post1)\r\n",
      "Requirement already satisfied: distro<2,>=1.7.0 in /Users/alex/anaconda3/envs/phishing-url/lib/python3.12/site-packages (from openai) (1.9.0)\r\n",
      "Requirement already satisfied: httpx<1,>=0.23.0 in /Users/alex/anaconda3/envs/phishing-url/lib/python3.12/site-packages (from openai) (0.27.2)\r\n",
      "Requirement already satisfied: jiter<1,>=0.4.0 in /Users/alex/anaconda3/envs/phishing-url/lib/python3.12/site-packages (from openai) (0.7.0)\r\n",
      "Requirement already satisfied: pydantic<3,>=1.9.0 in /Users/alex/anaconda3/envs/phishing-url/lib/python3.12/site-packages (from openai) (2.9.2)\r\n",
      "Requirement already satisfied: sniffio in /Users/alex/anaconda3/envs/phishing-url/lib/python3.12/site-packages (from openai) (1.3.1)\r\n",
      "Requirement already satisfied: tqdm>4 in /Users/alex/anaconda3/envs/phishing-url/lib/python3.12/site-packages (from openai) (4.66.5)\r\n",
      "Requirement already satisfied: typing-extensions<5,>=4.11 in /Users/alex/anaconda3/envs/phishing-url/lib/python3.12/site-packages (from openai) (4.12.2)\r\n",
      "Requirement already satisfied: idna>=2.8 in /Users/alex/anaconda3/envs/phishing-url/lib/python3.12/site-packages (from anyio<5,>=3.5.0->openai) (3.10)\r\n",
      "Requirement already satisfied: certifi in /Users/alex/anaconda3/envs/phishing-url/lib/python3.12/site-packages (from httpx<1,>=0.23.0->openai) (2024.8.30)\r\n",
      "Requirement already satisfied: httpcore==1.* in /Users/alex/anaconda3/envs/phishing-url/lib/python3.12/site-packages (from httpx<1,>=0.23.0->openai) (1.0.6)\r\n",
      "Requirement already satisfied: h11<0.15,>=0.13 in /Users/alex/anaconda3/envs/phishing-url/lib/python3.12/site-packages (from httpcore==1.*->httpx<1,>=0.23.0->openai) (0.14.0)\r\n",
      "Requirement already satisfied: annotated-types>=0.6.0 in /Users/alex/anaconda3/envs/phishing-url/lib/python3.12/site-packages (from pydantic<3,>=1.9.0->openai) (0.7.0)\r\n",
      "Requirement already satisfied: pydantic-core==2.23.4 in /Users/alex/anaconda3/envs/phishing-url/lib/python3.12/site-packages (from pydantic<3,>=1.9.0->openai) (2.23.4)\r\n",
      "Note: you may need to restart the kernel to use updated packages.\n"
     ]
    }
   ],
   "source": [
    "%pip install openai python-dotenv seaborn matplotlib sqlalchemy"
   ]
  },
  {
   "cell_type": "markdown",
   "metadata": {},
   "source": [
    "### Configuring OpenAI's client with OpenRouter"
   ]
  },
  {
   "cell_type": "code",
   "execution_count": null,
   "metadata": {},
   "outputs": [],
   "source": [
    "import os\n",
    "\n",
    "from dotenv import load_dotenv\n",
    "from openai import OpenAI\n",
    "\n",
    "# Load the API key from the .env file\n",
    "load_dotenv()\n",
    "\n",
    "OPENROUTER_API_KEY = os.getenv(\"OPENROUTER_API_KEY\")\n",
    "\n",
    "# Create a client\n",
    "client = OpenAI(\n",
    "    base_url=\"https://openrouter.ai/api/v1\",\n",
    "    api_key=OPENROUTER_API_KEY,\n",
    ")"
   ]
  },
  {
   "cell_type": "markdown",
   "metadata": {},
   "source": [
    "### Functions"
   ]
  },
  {
   "cell_type": "code",
   "execution_count": null,
   "metadata": {},
   "outputs": [],
   "source": [
    "def is_phishing(guess: bool):\n",
    "    return guess\n",
    "\n",
    "\n",
    "# \"function definitions\" for the OpenAI API. This helps the model understand what the functions are supposed to do.\n",
    "tools = [\n",
    "    {\n",
    "        \"type\": \"function\",\n",
    "        \"function\": {\n",
    "            \"name\": \"is_phishing\",\n",
    "            \"description\": \"Determines if this URL is a phishing website.\",\n",
    "            \"parameters\": {\n",
    "                \"type\": \"object\",\n",
    "                \"properties\": {\n",
    "                    \"guess\": {\n",
    "                        \"type\": \"boolean\",\n",
    "                        \"description\": \"The guess of whether the website is a phishing website.\",\n",
    "                    },\n",
    "                },\n",
    "                \"required\": [\"guess\"],\n",
    "                \"additionalProperties\": False,\n",
    "            },\n",
    "        },\n",
    "    },\n",
    "]"
   ]
  },
  {
   "cell_type": "code",
   "execution_count": null,
   "metadata": {},
   "outputs": [
    {
     "data": {
      "text/plain": [
       "False"
      ]
     },
     "execution_count": null,
     "metadata": {},
     "output_type": "execute_result"
    }
   ],
   "source": [
    "import json\n",
    "import re\n",
    "\n",
    "\n",
    "def label(url: str, model: str = \"openai/gpt-3.5-turbo\"):\n",
    "    # Prompt the model\n",
    "    messages = [\n",
    "        {\n",
    "            \"role\": \"system\",\n",
    "            \"content\": \"You are a website security tool. You have been asked to determine if the following URL is a phishing website.\",\n",
    "        },\n",
    "        {\n",
    "            \"role\": \"user\",\n",
    "            \"content\": f\"This is the URL of the website: {url}\",\n",
    "        },\n",
    "    ]\n",
    "\n",
    "    # Make a request to the API\n",
    "    response = client.chat.completions.create(\n",
    "        model=model,\n",
    "        messages=messages,\n",
    "        tools=tools,\n",
    "        stream=False,  # Return all messages at once\n",
    "        parallel_tool_calls=True,  # Functions can be called in parallel - no need to be executed sequentially\n",
    "        tool_choice=\"required\",  # Forces the assistant to use the tools\n",
    "        temperature=0.0,  # No randomness/creativity in the responses,\n",
    "    )\n",
    "\n",
    "    for choice in response.choices:\n",
    "        if choice.message.tool_calls:\n",
    "            # Arguments are passed as a JSON string\n",
    "            tool_call = choice.message.tool_calls[0]\n",
    "            # Parse arguments as JSON\n",
    "            arguments = json.loads(tool_call.function.arguments)\n",
    "            # Extract the guessed value\n",
    "            guess = arguments['guess']\n",
    "            return guess\n",
    "        if choice.message.content:\n",
    "            # Some Non-OpenAI models returns tool_calls as part of the message content (as a string)\n",
    "            # Extract the JSON part using regex\n",
    "            content = choice.message.content\n",
    "            json_str = re.search(r'\\[TOOL_CALLS\\] (\\[.*?\\])', content).group(1)\n",
    "            # Parse the JSON\n",
    "            tool_calls = json.loads(json_str)\n",
    "            tool_call = tool_calls[0]\n",
    "            # Extract the guessed value\n",
    "            guess = tool_call['arguments']['guess']\n",
    "            return guess\n",
    "\n",
    "\n",
    "label(\"https://bafybeidszm5hjkodoz44tw2fpdiaomoanrtpcqwf6ym236mjsxvop75paa.ipfs.cf-ipfs.com/ddoonncn.html\")"
   ]
  },
  {
   "cell_type": "markdown",
   "metadata": {},
   "source": [
    "### Labeling"
   ]
  },
  {
   "cell_type": "code",
   "execution_count": null,
   "metadata": {},
   "outputs": [
    {
     "ename": "AttributeError",
     "evalue": "'Choice' object has no attribute 'content'",
     "output_type": "error",
     "traceback": [
      "\u001b[0;31m---------------------------------------------------------------------------\u001b[0m",
      "\u001b[0;31mAttributeError\u001b[0m                            Traceback (most recent call last)",
      "Cell \u001b[0;32mIn[27], line 1\u001b[0m\n\u001b[0;32m----> 1\u001b[0m \u001b[43mlabel\u001b[49m\u001b[43m(\u001b[49m\u001b[38;5;124;43m\"\u001b[39;49m\u001b[38;5;124;43mhttps://www.google.com\u001b[39;49m\u001b[38;5;124;43m\"\u001b[39;49m\u001b[43m)\u001b[49m\n",
      "Cell \u001b[0;32mIn[26], line 32\u001b[0m, in \u001b[0;36mlabel\u001b[0;34m(url)\u001b[0m\n\u001b[1;32m     27\u001b[0m \u001b[38;5;66;03m#print(response)\u001b[39;00m\n\u001b[1;32m     28\u001b[0m \u001b[38;5;66;03m#print(response.)\u001b[39;00m\n\u001b[1;32m     30\u001b[0m \u001b[38;5;28;01mfor\u001b[39;00m choice \u001b[38;5;129;01min\u001b[39;00m response\u001b[38;5;241m.\u001b[39mchoices:\n\u001b[1;32m     31\u001b[0m     \u001b[38;5;66;03m#print(choice)\u001b[39;00m\n\u001b[0;32m---> 32\u001b[0m     \u001b[38;5;28mprint\u001b[39m(\u001b[43mchoice\u001b[49m\u001b[38;5;241;43m.\u001b[39;49m\u001b[43mcontent\u001b[49m)\n\u001b[1;32m     33\u001b[0m     \u001b[38;5;28;01mif\u001b[39;00m choice\u001b[38;5;241m.\u001b[39mmessage\u001b[38;5;241m.\u001b[39mtool_calls:\n\u001b[1;32m     34\u001b[0m         \u001b[38;5;28;01mfor\u001b[39;00m tool_call \u001b[38;5;129;01min\u001b[39;00m choice\u001b[38;5;241m.\u001b[39mmessage\u001b[38;5;241m.\u001b[39mtool_calls:\n\u001b[1;32m     35\u001b[0m             \u001b[38;5;66;03m# Arguments are passed as a JSON string\u001b[39;00m\n",
      "File \u001b[0;32m~/anaconda3/envs/phishing-url/lib/python3.12/site-packages/pydantic/main.py:856\u001b[0m, in \u001b[0;36mBaseModel.__getattr__\u001b[0;34m(self, item)\u001b[0m\n\u001b[1;32m    853\u001b[0m     \u001b[38;5;28;01mreturn\u001b[39;00m \u001b[38;5;28msuper\u001b[39m()\u001b[38;5;241m.\u001b[39m\u001b[38;5;21m__getattribute__\u001b[39m(item)  \u001b[38;5;66;03m# Raises AttributeError if appropriate\u001b[39;00m\n\u001b[1;32m    854\u001b[0m \u001b[38;5;28;01melse\u001b[39;00m:\n\u001b[1;32m    855\u001b[0m     \u001b[38;5;66;03m# this is the current error\u001b[39;00m\n\u001b[0;32m--> 856\u001b[0m     \u001b[38;5;28;01mraise\u001b[39;00m \u001b[38;5;167;01mAttributeError\u001b[39;00m(\u001b[38;5;124mf\u001b[39m\u001b[38;5;124m'\u001b[39m\u001b[38;5;132;01m{\u001b[39;00m\u001b[38;5;28mtype\u001b[39m(\u001b[38;5;28mself\u001b[39m)\u001b[38;5;241m.\u001b[39m\u001b[38;5;18m__name__\u001b[39m\u001b[38;5;132;01m!r}\u001b[39;00m\u001b[38;5;124m object has no attribute \u001b[39m\u001b[38;5;132;01m{\u001b[39;00mitem\u001b[38;5;132;01m!r}\u001b[39;00m\u001b[38;5;124m'\u001b[39m)\n",
      "\u001b[0;31mAttributeError\u001b[0m: 'Choice' object has no attribute 'content'"
     ]
    }
   ],
   "source": [
    "label(\"https://www.google.com\")"
   ]
  },
  {
   "cell_type": "code",
   "execution_count": null,
   "metadata": {},
   "outputs": [
    {
     "name": "stdout",
     "output_type": "stream",
     "text": [
      "[{\"name\": \"is_phishing\", \"arguments\": {\"guess\": false}}]\n",
      "[{'name': 'is_phishing', 'arguments': {'guess': False}}]\n"
     ]
    },
    {
     "data": {
      "text/plain": [
       "False"
      ]
     },
     "execution_count": null,
     "metadata": {},
     "output_type": "execute_result"
    }
   ],
   "source": [
    "label(\"https://societegenerale.ci/fr/\")"
   ]
  },
  {
   "cell_type": "code",
   "execution_count": null,
   "metadata": {},
   "outputs": [
    {
     "name": "stdout",
     "output_type": "stream",
     "text": [
      "[{\"name\": \"is_phishing\", \"arguments\": {\"guess\": false}}]\n",
      "[{'name': 'is_phishing', 'arguments': {'guess': False}}]\n"
     ]
    },
    {
     "data": {
      "text/plain": [
       "False"
      ]
     },
     "execution_count": null,
     "metadata": {},
     "output_type": "execute_result"
    }
   ],
   "source": [
    "label(\"https://nuxt.lemonsqueezy.com/checkout\")"
   ]
  },
  {
   "cell_type": "code",
   "execution_count": null,
   "metadata": {},
   "outputs": [
    {
     "name": "stdout",
     "output_type": "stream",
     "text": [
      "[{\"name\": \"is_phishing\", \"arguments\": {\"guess\": false}}]\n",
      "[{'name': 'is_phishing', 'arguments': {'guess': False}}]\n"
     ]
    },
    {
     "data": {
      "text/plain": [
       "False"
      ]
     },
     "execution_count": null,
     "metadata": {},
     "output_type": "execute_result"
    }
   ],
   "source": [
    "label(\"https://www.binance.com/fr\")"
   ]
  },
  {
   "cell_type": "code",
   "execution_count": null,
   "metadata": {},
   "outputs": [],
   "source": [
    "from sqlalchemy import create_engine\n",
    "\n",
    "DATABASE_URL = os.getenv(\"DATABASE_URL\")\n",
    "\n",
    "engine = create_engine(DATABASE_URL, connect_args={\"options\": \"-c timezone=utc\"})"
   ]
  },
  {
   "cell_type": "code",
   "execution_count": null,
   "metadata": {},
   "outputs": [],
   "source": [
    "import pandas as pd\n",
    "\n",
    "# Load the dataset from the database\n",
    "df = pd.read_sql_table(\"url\", engine, index_col=None, parse_dates=[\"created_at\", \"updated_at\"])"
   ]
  },
  {
   "cell_type": "code",
   "execution_count": null,
   "metadata": {},
   "outputs": [],
   "source": [
    "from datetime import datetime\n",
    "\n",
    "\n",
    "def save_results(model_name: str, X_train, y_pred, y_train):\n",
    "    # Create a DataFrame with X_train, y_pred, and y_train\n",
    "    results_df = pd.DataFrame({\n",
    "        'X': X_train,\n",
    "        'y': y_train,\n",
    "        'y_pred': y_pred,\n",
    "    })\n",
    "\n",
    "    # Add columns for the model name and the current date-time\n",
    "    current_datetime = datetime.now().strftime(\"%Y-%m-%d_%H:%M:%S\")\n",
    "    filename = f\"{model_name.replace('/', '-')}-{current_datetime}.csv\"\n",
    "\n",
    "    # Save the DataFrame to a CSV file\n",
    "    results_df.to_csv(f\"../data/{filename}\", index=False)"
   ]
  },
  {
   "cell_type": "code",
   "execution_count": null,
   "metadata": {},
   "outputs": [],
   "source": [
    "from sklearn.model_selection import train_test_split\n",
    "\n",
    "X = df[\"url\"]\n",
    "y = df[\"is_phishing\"]\n",
    "X_train, X_test, y_train, y_test = train_test_split(X, y, train_size=0.1, random_state=42)"
   ]
  },
  {
   "cell_type": "code",
   "execution_count": null,
   "metadata": {},
   "outputs": [],
   "source": [
    "model_name = \"openai/gpt-3.5-turbo\"\n",
    "\n",
    "\n",
    "#model_name=\"google/gemini-pro\"\n",
    "#model_name=\"mistralai/mistral-7b-instruct\"\n",
    "\n",
    "def apply_label(url: str):\n",
    "    try:\n",
    "        return label(url, model=model_name)\n",
    "    except Exception as e:\n",
    "        print(url)\n",
    "        print(e)\n",
    "        return None\n",
    "\n",
    "\n",
    "y_pred = X_train.apply(apply_label)\n",
    "\n",
    "save_results(model_name, X_train, y_pred, y_train)"
   ]
  },
  {
   "cell_type": "code",
   "execution_count": null,
   "metadata": {},
   "outputs": [],
   "source": [
    "from sklearn.metrics import accuracy_score\n",
    "\n",
    "accuracy_score(y_train, y_pred)"
   ]
  },
  {
   "cell_type": "code",
   "execution_count": null,
   "metadata": {},
   "outputs": [],
   "source": [
    "from sklearn.metrics import confusion_matrix\n",
    "import matplotlib.pyplot as plt\n",
    "import seaborn as sns\n",
    "\n",
    "# Generate the confusion matrix\n",
    "cm = confusion_matrix(y_train, y_pred)\n",
    "\n",
    "# Create a Confusion Matrix\n",
    "plt.figure(figsize=(8, 8))\n",
    "sns.heatmap(cm, annot=True, fmt='d', cmap='Greens')\n",
    "plt.title('Confusion Matrix')\n",
    "plt.ylabel('True label')\n",
    "plt.xlabel('Predicted label')\n",
    "plt.show()"
   ]
  }
 ],
 "metadata": {
  "kernelspec": {
   "display_name": "Python 3 (ipykernel)",
   "language": "python",
   "name": "python3"
  },
  "language_info": {
   "codemirror_mode": {
    "name": "ipython",
    "version": 3
   },
   "file_extension": ".py",
   "mimetype": "text/x-python",
   "name": "python",
   "nbconvert_exporter": "python",
   "pygments_lexer": "ipython3"
  }
 },
 "nbformat": 4,
 "nbformat_minor": 2
}
