{
 "cells": [
  {
   "cell_type": "markdown",
   "metadata": {},
   "source": [
    "# Features extraction"
   ]
  },
  {
   "cell_type": "markdown",
   "metadata": {},
   "source": [
    "Turn raw data into features."
   ]
  },
  {
   "cell_type": "markdown",
   "metadata": {},
   "source": [
    "## Extract URL features"
   ]
  },
  {
   "cell_type": "markdown",
   "metadata": {},
   "source": [
    "The following features are extracted from the URL:\n",
    "\n",
    "- **URLLength**: Number of characters in the URL.\n",
    "- **Domain**: Domain name extracted from the URL.\n",
    "- **DomainLength**: Number of characters in the domain name.\n",
    "- **IsDomainIP**: Indicates if the domain name is an IP address.\n",
    "- **TLD**: TLD (Top Level Domain) is the last part of the domain name, such as .com or .edu.\n",
    "- **URLSimilarityIndex**:\n",
    "- **CharContinuationRate**:\n",
    "- **TLDLegitimateProb**:\n",
    "- **URLCharProb**:\n",
    "- **TLDLength**: Number of characters in the TLD.\n",
    "- **NoOfSubDomain**: Number of subdomains in the URL.\n",
    "- **HasObfuscation**: Indicates if the URL has obfuscated characters like %20, %4D, etc.\n",
    "- **NoOfObfuscatedChar**: Number of obfuscated characters in the URL.\n",
    "- **ObfuscationRatio**:\n",
    "- **NoOfLettersInURL**: Number of letters in the URL.\n",
    "- **LetterRatioInURL**:\n",
    "- **NoOfDegitsInURL**: Number of digits in the URL.\n",
    "- **DegitRatioInURL**:\n",
    "- **NoOfEqualsInURL**: Number of equal signs (=) in the URL.\n",
    "- **NoOfQMarkInURL**: Number of question marks (?) in the URL.\n",
    "- **NoOfAmpersandInURL**: Number of ampersands (&) in the URL.\n",
    "- **NoOfOtherSpecialCharsInURL**: Number of other special characters in the URL.\n",
    "- **SpacialCharRatioInURL**:\n",
    "- **IsHTTPS**: Indicates if the webpage is running on unsecured HTTP (hypertext transfer protocol) or secured HTTPS.\n",
    "\n",
    "**Notes**:\n",
    "\n",
    "- We need to differentiate between URL and domain. For example, in the URL `https://www.google.com/search?q=python`, the domain is `www.google.com`. This is commonly referred to as the hostname. The domain is also commonly referred to as the base domain or the root domain (google.com). But, in our case, we'll refer to the hostname as the domain (which is ultimetly not incorrect).\n",
    "- Boolean features are converted to numerical values (0=False; 1=True)."
   ]
  },
  {
   "cell_type": "markdown",
   "metadata": {},
   "source": [
    "### Import libraries"
   ]
  },
  {
   "cell_type": "code",
   "execution_count": 1,
   "metadata": {},
   "outputs": [],
   "source": [
    "from urllib.parse import urlparse\n",
    "import re"
   ]
  },
  {
   "cell_type": "markdown",
   "metadata": {},
   "source": [
    "### Extract features"
   ]
  },
  {
   "cell_type": "code",
   "execution_count": 2,
   "metadata": {},
   "outputs": [],
   "source": [
    "# For testing purposes.\n",
    "# Even though most URLs in the dataset do not contains query params,\n",
    "# those kind of URLs are more realistic.\n",
    "test_url = 'https://www.google.com/search?q=alan+turing'"
   ]
  },
  {
   "cell_type": "code",
   "execution_count": 20,
   "metadata": {},
   "outputs": [
    {
     "data": {
      "text/plain": [
       "'com'"
      ]
     },
     "execution_count": 20,
     "metadata": {},
     "output_type": "execute_result"
    }
   ],
   "source": [
    "def get_tld(url):\n",
    "    hostname = urlparse(url).hostname\n",
    "    return hostname.split('.')[-1]\n",
    "\n",
    "get_tld(test_url)"
   ]
  },
  {
   "cell_type": "code",
   "execution_count": 5,
   "metadata": {},
   "outputs": [
    {
     "data": {
      "text/plain": [
       "22"
      ]
     },
     "execution_count": 5,
     "metadata": {},
     "output_type": "execute_result"
    }
   ],
   "source": [
    "def get_length(url):\n",
    "    return len(url)\n",
    "\n",
    "get_length(test_url)"
   ]
  },
  {
   "cell_type": "code",
   "execution_count": 23,
   "metadata": {},
   "outputs": [
    {
     "data": {
      "text/plain": [
       "1"
      ]
     },
     "execution_count": 23,
     "metadata": {},
     "output_type": "execute_result"
    }
   ],
   "source": [
    "def is_domain_ip(url):\n",
    "    hostname = urlparse(url).hostname\n",
    "    # This regex will match any sequence of four numbers separated by dots. This is a simple way to check if a string is an IP address.\n",
    "    # However, it doesn't strictly validate IP addresses. For example, it will match 999.999.999.999, which is not a valid IP address.\n",
    "    ip_pattern = r'\\d{1,3}\\.\\d{1,3}\\.\\d{1,3}\\.\\d{1,3}'\n",
    "    is_ip = bool(re.search(ip_pattern, hostname))\n",
    "    return int(is_ip)\n",
    "\n",
    "is_domain_ip(test_url)"
   ]
  },
  {
   "cell_type": "code",
   "execution_count": 24,
   "metadata": {},
   "outputs": [
    {
     "data": {
      "text/plain": [
       "1"
      ]
     },
     "execution_count": 24,
     "metadata": {},
     "output_type": "execute_result"
    }
   ],
   "source": [
    "def get_subdomain_count(url):\n",
    "    # IP addresses are not domain names, thus they don't have subdomains. Subdomains are part of the DNS hierarchy and are only used in domain names.\n",
    "    if (is_domain_ip(url)):\n",
    "        return 0\n",
    "    \n",
    "    hostname = urlparse(url).hostname\n",
    "    domains = hostname.split('.')\n",
    "    return len(domains) - 2 # Subtract 2 to account for the TLD and the root domain\n",
    "\n",
    "get_subdomain_count(test_url)"
   ]
  },
  {
   "cell_type": "code",
   "execution_count": 18,
   "metadata": {},
   "outputs": [
    {
     "data": {
      "text/plain": [
       "12"
      ]
     },
     "execution_count": 18,
     "metadata": {},
     "output_type": "execute_result"
    }
   ],
   "source": [
    "def get_obfuscated_char_count(url):\n",
    "    # This regex will match any character that is not a letter or a number.\n",
    "    obfuscated_char_pattern = r'[^a-zA-Z0-9]'\n",
    "    obfuscated_chars = re.findall(obfuscated_char_pattern, url)\n",
    "    return len(obfuscated_chars)\n",
    "\n",
    "get_obfuscated_char_count('https://facebook.com@%61%62%63.%43%4F%4D')"
   ]
  },
  {
   "cell_type": "code",
   "execution_count": 25,
   "metadata": {},
   "outputs": [
    {
     "data": {
      "text/plain": [
       "1"
      ]
     },
     "execution_count": 25,
     "metadata": {},
     "output_type": "execute_result"
    }
   ],
   "source": [
    "def is_https(url):\n",
    "    protocol = urlparse(url).scheme\n",
    "    return int(protocol == 'https')\n",
    "\n",
    "is_https(test_url)"
   ]
  },
  {
   "cell_type": "code",
   "execution_count": null,
   "metadata": {},
   "outputs": [],
   "source": [
    "def get_digit_symbols_count(url):\n",
    "    # TODO\n",
    "    return 0"
   ]
  },
  {
   "cell_type": "markdown",
   "metadata": {},
   "source": [
    "## Extract HTML features"
   ]
  },
  {
   "cell_type": "markdown",
   "metadata": {},
   "source": [
    "The following features are extracted from URL's HTML content:\n",
    "\n",
    "- ****LineOfCode**: \n",
    "- ****LargestLineLength**: \n",
    "- ****HasTitle**: \n",
    "- ****Title**: \n",
    "- ****DomainTitleMatchScore**: \n",
    "- ****URLTitleMatchScore**: \n",
    "- ****HasFavicon**: \n",
    "- ****Robots**: \n",
    "- ****IsResponsive**: \n",
    "- ****NoOfURLRedirect**: \n",
    "- ****NoOfSelfRedirect**: \n",
    "- ****HasDescription**: \n",
    "- ****NoOfPopup**: \n",
    "- ****NoOfiFrame**: \n",
    "- ****HasExternalFormSubmit**: \n",
    "- ****HasSocialNet**: \n",
    "- ****HasSubmitButton**: \n",
    "- ****HasHiddenFields**: \n",
    "- ****HasPasswordField**: \n",
    "- ****Bank**: \n",
    "- ****Pay**: \n",
    "- ****Crypto**: \n",
    "- ****HasCopyrightInfo**: \n",
    "- ****NoOfImage**: \n",
    "- ****NoOfCSS**: \n",
    "- ****NoOfJS**: \n",
    "- ****NoOfSelfRef**: \n",
    "- ****NoOfEmptyRef**: \n",
    "- ****NoOfExternalRef**:\n",
    "\n",
    "We will use [Playwright](https://playwright.dev/python/) instead of simple HTTP requests to download pages source code. HTTP clients are not able to execute JavaScript. Nowadays, many websites are built using JavaScript frameworks like React, Angular, Vue, etc. Playwright will open an isolated browser and execute JavaScript like a real user would do. This way, we can get the full HTML content of the page."
   ]
  }
 ],
 "metadata": {
  "kernelspec": {
   "display_name": "Python 3 (ipykernel)",
   "language": "python",
   "name": "python3"
  }
 },
 "nbformat": 4,
 "nbformat_minor": 2
}
