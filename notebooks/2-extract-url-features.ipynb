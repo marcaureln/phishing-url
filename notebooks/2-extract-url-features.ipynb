{
 "cells": [
  {
   "cell_type": "markdown",
   "metadata": {},
   "source": [
    "# Features extraction"
   ]
  },
  {
   "cell_type": "markdown",
   "metadata": {},
   "source": [
    "Turn raw data into features."
   ]
  },
  {
   "cell_type": "markdown",
   "metadata": {},
   "source": [
    "## Extract URL features"
   ]
  },
  {
   "cell_type": "markdown",
   "metadata": {},
   "source": [
    "The following features are extracted from the URL:\n",
    "\n",
    "- **URLLength**: Number of characters in the URL.\n",
    "- **Domain**: Domain name extracted from the URL.\n",
    "- **DomainLength**: Number of characters in the domain name.\n",
    "- **IsDomainIP**: Indicates if the domain name is an IP address.\n",
    "- **TLD**: TLD (Top Level Domain) is the last part of the domain name, such as .com or .edu.\n",
    "- **URLSimilarityIndex**:\n",
    "- **CharContinuationRate**: Ratio of the number of continuous characters in the URL.\n",
    "- **TLDLegitimateProb**:\n",
    "- **URLCharProb**:\n",
    "- **TLDLength**: Number of characters in the TLD.\n",
    "- **NoOfSubDomain**: Number of subdomains in the URL.\n",
    "- **HasObfuscation**: Indicates if the URL has obfuscated characters like %20, %4D, etc.\n",
    "- **NoOfObfuscatedChar**: Number of obfuscated characters in the URL.\n",
    "- **ObfuscationRatio**: Ratio of obfuscated characters in the URL.\n",
    "- **NoOfLettersInURL**: Number of letters in the URL.\n",
    "- **LetterRatioInURL**: Ratio of letters in the URL.\n",
    "- **NoOfDegitsInURL**: Number of digits in the URL.\n",
    "- **DegitRatioInURL**: Ratio of digits in the URL.\n",
    "- **NoOfEqualsInURL**: Number of equal signs (=) in the URL.\n",
    "- **NoOfQMarkInURL**: Number of question marks (?) in the URL.\n",
    "- **NoOfAmpersandInURL**: Number of ampersands (&) in the URL.\n",
    "- **NoOfOtherSpecialCharsInURL**: Number of special characters other than equals, question marks, and ampersands in the URL.\n",
    "- **SpacialCharRatioInURL**: Ratio of all special characters in the URL. A special character is any character that is not a letter or a digit.\n",
    "- **IsHTTPS**: Indicates if the webpage is running on unsecured HTTP (hypertext transfer protocol) or secured HTTPS.\n",
    "\n",
    "**Notes**:\n",
    "\n",
    "- We need to differentiate between URL and domain. For example, in the URL `https://www.google.com/search?q=python`, the domain is `www.google.com`. This is commonly referred to as the hostname. The domain is also commonly referred to as the base domain or the root domain (google.com). But, in our case, we'll refer to the hostname as the domain (which is ultimetly not incorrect).\n",
    "- Boolean features are converted to numerical values (0=False; 1=True)."
   ]
  },
  {
   "cell_type": "markdown",
   "metadata": {},
   "source": [
    "### Import libraries"
   ]
  },
  {
   "cell_type": "code",
   "execution_count": 1,
   "metadata": {},
   "outputs": [],
   "source": [
    "from urllib.parse import urlparse, unquote\n",
    "import re"
   ]
  },
  {
   "cell_type": "markdown",
   "metadata": {},
   "source": [
    "### Extract features"
   ]
  },
  {
   "cell_type": "code",
   "execution_count": 2,
   "metadata": {},
   "outputs": [
    {
     "name": "stdout",
     "output_type": "stream",
     "text": [
      "0\n",
      "1\n",
      "1\n"
     ]
    }
   ],
   "source": [
    "def IsDomainIP(domain):\n",
    "    # This regex will match any sequence of four numbers separated by dots. This is a simple way to check if a string is an IP address.\n",
    "    # However, it doesn't strictly validate IP addresses. For example, it will match 999.999.999.999, which is not a valid IP address.\n",
    "    ip_pattern = r'\\d{1,3}\\.\\d{1,3}\\.\\d{1,3}\\.\\d{1,3}'\n",
    "    is_ip = bool(re.search(ip_pattern, domain))\n",
    "    return int(is_ip)\n",
    "\n",
    "print(IsDomainIP('www.google.com')) # 0\n",
    "print(IsDomainIP('192.168.1.1')) # 1\n",
    "print(IsDomainIP('999.999.999.999')) # 1 (True, but it's not a valid IP address)"
   ]
  },
  {
   "cell_type": "code",
   "execution_count": 3,
   "metadata": {},
   "outputs": [
    {
     "name": "stdout",
     "output_type": "stream",
     "text": [
      "1\n",
      "0\n",
      "0\n"
     ]
    }
   ],
   "source": [
    "def NoOfSubDomain(domain):\n",
    "    # IP addresses are not domain names, thus they don't have subdomains. \n",
    "    # Subdomains are part of the DNS hierarchy and are only used in domain names.\n",
    "    if (IsDomainIP(domain)):\n",
    "        return 0\n",
    "    \n",
    "    domains = domain.split('.')\n",
    "    return len(domains) - 2 # Subtract apex domain and TLD\n",
    "\n",
    "print(NoOfSubDomain('docs.python.org')) # 1\n",
    "print(NoOfSubDomain('google.com')) # 0\n",
    "print(NoOfSubDomain('192.168.1.1')) # 0"
   ]
  },
  {
   "cell_type": "code",
   "execution_count": 4,
   "metadata": {},
   "outputs": [],
   "source": [
    "# https://github.com/arvindbitm/PhiUSIIL/blob/main/CharConRate.ipynb\n",
    "# They are stripping 'www' and the TLD from the domain name before calculating the character continuation rate.\n",
    "# Why only 'www'? What about other subdomains?\n",
    "\n",
    "def CharConRate(url):\n",
    "    rate=0 # This variable is not even used 🤷‍♂️\n",
    "    ln=len(url)\n",
    "    chC, nmC, spC = 0,0,0\n",
    "    maxCh, maxNm, MaxSp = 0,0,0\n",
    "    for i in range(0,ln):\n",
    "        ch = url[i]\n",
    "        if ch.isalpha():\n",
    "            chC=chC+1\n",
    "            if(nmC>0):\n",
    "                if(maxNm<nmC):\n",
    "                    maxNm=nmC\n",
    "                    nmC=0\n",
    "            elif(spC>0):\n",
    "                if(MaxSp<spC):\n",
    "                    MaxSp=spC\n",
    "                    spC=0\n",
    "            nmC,spC=0,0\n",
    "                \n",
    "        elif ch.isdigit():\n",
    "            nmC=nmC+1\n",
    "            if(chC>0):\n",
    "                if(maxCh<chC):\n",
    "                    maxCh=chC\n",
    "                    chC=0\n",
    "            elif(spC>0):\n",
    "                if(MaxSp<spC):\n",
    "                    MaxSp=spC\n",
    "                    spC=0\n",
    "            chC,spC=0,0\n",
    "        else:\n",
    "            spC=spC+1\n",
    "            if(nmC>0):\n",
    "                if(maxNm<nmC):\n",
    "                    maxNm=nmC\n",
    "                    nmC=0\n",
    "            elif(chC>0):\n",
    "                if(maxCh<chC):\n",
    "                    maxCh=chC\n",
    "                    chC=0\n",
    "            nmC,chC=0,0\n",
    "    \n",
    "    if(maxCh<chC):\n",
    "        maxCh=chC\n",
    "    if(maxNm<nmC):\n",
    "        maxNm=nmC\n",
    "    if(MaxSp<spC):\n",
    "        MaxSp=spC\n",
    "    return (maxCh+maxNm+MaxSp)/ln"
   ]
  },
  {
   "cell_type": "code",
   "execution_count": 5,
   "metadata": {},
   "outputs": [
    {
     "name": "stdout",
     "output_type": "stream",
     "text": [
      "0\n",
      "1\n"
     ]
    }
   ],
   "source": [
    "def HasObfuscation(str):\n",
    "    decoded_str = unquote(str)\n",
    "    return int(decoded_str != str)\n",
    "\n",
    "print(HasObfuscation('https://facebook.com'))\n",
    "print(HasObfuscation('https://facebook.com@%61%62%63.%43%4F%4D'))"
   ]
  },
  {
   "cell_type": "code",
   "execution_count": 6,
   "metadata": {},
   "outputs": [
    {
     "name": "stdout",
     "output_type": "stream",
     "text": [
      "0\n",
      "6\n"
     ]
    }
   ],
   "source": [
    "def NoOfObfuscatedChar(str):\n",
    "    # Regular expression to find percent-encoded characters.\n",
    "    # A percent-encoded character is a character that is represented by a percent sign followed by two hexadecimal digits.\n",
    "    encoded_char_pattern = r'%[0-9A-Fa-f]{2}'\n",
    "    # Find all matches of the pattern in the URL\n",
    "    encoded_chars = re.findall(encoded_char_pattern, str)\n",
    "    return len(encoded_chars)\n",
    "\n",
    "print(NoOfObfuscatedChar('https://facebook.com'))\n",
    "print(NoOfObfuscatedChar('https://facebook.com@%61%62%63.%43%4F%4D'))"
   ]
  },
  {
   "cell_type": "code",
   "execution_count": 7,
   "metadata": {},
   "outputs": [
    {
     "name": "stdout",
     "output_type": "stream",
     "text": [
      "0\n",
      "1\n"
     ]
    }
   ],
   "source": [
    "def NoOfInURL(str, pattern):\n",
    "    \"\"\"\n",
    "    Counts the number of occurrences of a given pattern in a string.\n",
    "\n",
    "    Parameters:\n",
    "    - str (str): The input string to search for matches.\n",
    "    - pattern (str): The pattern to search for in the input string.\n",
    "\n",
    "    Returns:\n",
    "    - int: The number of matches found.\n",
    "\n",
    "    Example:\n",
    "    >>> NoOfInURL(\"https://facebook.com?param=value\", r\"=\")\n",
    "    1\n",
    "    \"\"\"\n",
    "    # Find all matches of the pattern in the URL\n",
    "    matches = re.findall(pattern, str)\n",
    "    return len(matches)\n",
    "\n",
    "print(NoOfInURL('https://facebook.com', r'\\?'))\n",
    "print(NoOfInURL('https://facebook.com?param=value', r'\\?'))"
   ]
  },
  {
   "cell_type": "code",
   "execution_count": 8,
   "metadata": {},
   "outputs": [
    {
     "name": "stdout",
     "output_type": "stream",
     "text": [
      "0.08333333333333333\n",
      "0.125\n"
     ]
    }
   ],
   "source": [
    "# Refering to 'URL' but seems to be calculating for 'Domain' on the dataset\n",
    "# Same applies to the all ...InURL calculations\n",
    "def SpecialCharRatioInURL(url):\n",
    "    # Negative lookahead to match any character that is not a letter or a digit\n",
    "    special_char_pattern = r'[^A-Za-z0-9]'\n",
    "    special_chars = re.findall(special_char_pattern, url)\n",
    "    return len(special_chars) / len(url)\n",
    "\n",
    "print(SpecialCharRatioInURL('facebook.com'))\n",
    "print(SpecialCharRatioInURL('facebook.com?param=value'))"
   ]
  },
  {
   "cell_type": "code",
   "execution_count": 9,
   "metadata": {},
   "outputs": [
    {
     "data": {
      "text/plain": [
       "{'URLLength': 43,\n",
       " 'Domain': 'www.google.com',\n",
       " 'DomainLength': 14,\n",
       " 'IsDomainIP': 0,\n",
       " 'TLD': 'com',\n",
       " 'TLDLength': 3,\n",
       " 'TLDLegitimateProb': '',\n",
       " 'URLSimilarityIndex': '',\n",
       " 'CharContinuationRate': 1.0,\n",
       " 'URLCharProb': '',\n",
       " 'NoOfSubDomain': 1,\n",
       " 'HasObfuscation': 0,\n",
       " 'NoOfObfuscatedChar': 0,\n",
       " 'ObfuscationRatio': 0.0,\n",
       " 'NoOfLettersInURL': 34,\n",
       " 'LetterRatioInURL': 0.7906976744186046,\n",
       " 'NoOfDegitsInURL': 0,\n",
       " 'DegitRatioInURL': 0.0,\n",
       " 'NoOfEqualsInURL': 1,\n",
       " 'NoOfQMarkInURL': 1,\n",
       " 'NoOfAmpersandInURL': 0,\n",
       " 'NoOfOtherSpecialCharsInURL': 7,\n",
       " 'SpacialCharRatioInURL': 0.20930232558139536,\n",
       " 'IsHTTPS': 1}"
      ]
     },
     "execution_count": 9,
     "metadata": {},
     "output_type": "execute_result"
    }
   ],
   "source": [
    "# Even though most URLs in the dataset do not contains query params, those kind of URLs are more realistic.\n",
    "test_url = 'https://www.google.com/search?q=alan+turing'\n",
    "\n",
    "def URLFeatures(url):\n",
    "    parsed_url = urlparse(url)\n",
    "    domain = parsed_url.hostname\n",
    "    tld = domain.split('.')[-1]\n",
    "\n",
    "    return {\n",
    "        'URLLength': len(url),\n",
    "        'Domain': domain,\n",
    "        'DomainLength': len(domain),\n",
    "        'IsDomainIP': IsDomainIP(domain),\n",
    "        'TLD': tld,\n",
    "        'TLDLength': len(tld),\n",
    "        'TLDLegitimateProb': '',\n",
    "        'URLSimilarityIndex': '',\n",
    "        'CharContinuationRate': CharConRate(domain.split('.')[1 if NoOfSubDomain('google.com') > 0 else 0]), # For consistency, we are stripping the first subdomain (not just 'www') and the TLD\n",
    "        'URLCharProb': '',\n",
    "        'NoOfSubDomain': NoOfSubDomain(domain),\n",
    "        'HasObfuscation': HasObfuscation(domain),\n",
    "        'NoOfObfuscatedChar': NoOfObfuscatedChar(domain),\n",
    "        'ObfuscationRatio': NoOfObfuscatedChar(domain) / len(domain),\n",
    "        'NoOfLettersInURL': NoOfInURL(url, r'[a-zA-Z]'),\n",
    "        'LetterRatioInURL': NoOfInURL(url, r'[a-zA-Z]') / len(url),\n",
    "        'NoOfDegitsInURL': NoOfInURL(url, r'\\d'),\n",
    "        'DegitRatioInURL': NoOfInURL(url, r'\\d') / len(url),\n",
    "        'NoOfEqualsInURL': NoOfInURL(url, r'='),\n",
    "        'NoOfQMarkInURL': NoOfInURL(url, r'\\?'),\n",
    "        'NoOfAmpersandInURL': NoOfInURL(url, r'&'),\n",
    "        'NoOfOtherSpecialCharsInURL': NoOfInURL(url, r'[^a-zA-Z\\d=&\\?]'),\n",
    "        'SpacialCharRatioInURL': SpecialCharRatioInURL(url), # I guess this is a typo and it should be 'SpecialCharRatioInURL'\n",
    "        'IsHTTPS': int(parsed_url.scheme == 'https'),\n",
    "    }\n",
    "\n",
    "URLFeatures(test_url)"
   ]
  }
 ],
 "metadata": {
  "kernelspec": {
   "display_name": "Python 3 (ipykernel)",
   "language": "python",
   "name": "python3"
  },
  "language_info": {
   "codemirror_mode": {
    "name": "ipython",
    "version": 3
   },
   "file_extension": ".py",
   "mimetype": "text/x-python",
   "name": "python",
   "nbconvert_exporter": "python",
   "pygments_lexer": "ipython3",
   "version": "3.12.4"
  }
 },
 "nbformat": 4,
 "nbformat_minor": 2
}
