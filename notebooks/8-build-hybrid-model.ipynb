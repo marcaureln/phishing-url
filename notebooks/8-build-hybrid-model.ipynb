{
 "cells": [
  {
   "cell_type": "markdown",
   "id": "5f08597ff0aa5788",
   "metadata": {},
   "source": [
    "# Hybrid Classification"
   ]
  },
  {
   "cell_type": "markdown",
   "id": "7468f85894851556",
   "metadata": {},
   "source": [
    "While the standard `predict` method in most machine learning libraries directly outputs the predicted class, we'll create a custom function that will output the predicted class based on a threshold.\n",
    "\n",
    "We'll use the `predict_proba` method to get the probabilities and then apply the threshold to get the predicted class. However, not all models have the `predict_proba` method. For example, the `SGDClassifier` model doesn't have this method.\n",
    "\n",
    "The hybrid classification will act as such, output a probability of being a phishing URL, then if the probability is below a certain threshold, we'll classify it as a legitimate URL. If the probability is above the threshold, we'll rely on another model to classify it as phishing or legitimate. This other model can be a pre-trained model or any other model that can classify the URL as phishing or legitimate.\n",
    "\n",
    "Why do we need this hybrid classification? Beside increasing the accuracy of the model, we want to have the lowest false negative rate possible. A false negative is when a legitimate URL is classified as phishing. This can be very harmful to the user as they might not be able to access a legitimate website. We want to avoid this as much as possible.\n",
    "\n",
    "**Note:** Our positive class is phishing URLs (1) and the negative class is legitimate URLs (0). The model predicts the probability of being a phishing URL."
   ]
  },
  {
   "cell_type": "markdown",
   "id": "fa64e124948c8e4d",
   "metadata": {},
   "source": [
    "## Setup"
   ]
  },
  {
   "cell_type": "code",
   "execution_count": null,
   "id": "b9f5db860a38b304",
   "metadata": {},
   "outputs": [],
   "source": [
    "import random\n",
    "\n",
    "import numpy as np\n",
    "\n",
    "\n",
    "def set_seeds(seed: int):\n",
    "    \"\"\" Set seeds for reproducibility. \"\"\"\n",
    "    random.seed(seed)\n",
    "    np.random.seed(seed)"
   ]
  },
  {
   "cell_type": "code",
   "execution_count": null,
   "id": "9c073bf794d1481a",
   "metadata": {},
   "outputs": [],
   "source": [
    "random_seed = 42\n",
    "set_seeds(random_seed)"
   ]
  },
  {
   "cell_type": "markdown",
   "id": "fd53b26e40a98c8f",
   "metadata": {},
   "source": [
    "## Load Dataset"
   ]
  },
  {
   "cell_type": "code",
   "execution_count": null,
   "id": "initial_id",
   "metadata": {},
   "outputs": [],
   "source": [
    "import pandas as pd\n",
    "\n",
    "df = pd.read_csv(\"../data/extracted_features.csv\")"
   ]
  },
  {
   "cell_type": "code",
   "execution_count": null,
   "id": "ce3953857c97ee1e",
   "metadata": {},
   "outputs": [],
   "source": [
    "# Drop rows with missing values\n",
    "df = df.dropna()"
   ]
  },
  {
   "cell_type": "code",
   "execution_count": null,
   "id": "43f876ac8b2aa37",
   "metadata": {},
   "outputs": [],
   "source": [
    "#X = df.drop(columns=[\"url\", \"is_phishing\", \"domain\", \"tld\"])\n",
    "X = df.drop(columns=[\"domain\", \"is_phishing\", \"tld\"])\n",
    "y = df[\"is_phishing\"]"
   ]
  },
  {
   "cell_type": "code",
   "execution_count": null,
   "id": "6d1be4814a238c31",
   "metadata": {},
   "outputs": [],
   "source": [
    "from sklearn.model_selection import train_test_split\n",
    "\n",
    "X_train, X_test, y_train, y_test = train_test_split(X, y, test_size=0.2, random_state=random_seed)"
   ]
  },
  {
   "cell_type": "code",
   "execution_count": null,
   "id": "e16915edee3f2341",
   "metadata": {},
   "outputs": [
    {
     "data": {
      "text/html": [
       "<div>\n",
       "<style scoped>\n",
       "    .dataframe tbody tr th:only-of-type {\n",
       "        vertical-align: middle;\n",
       "    }\n",
       "\n",
       "    .dataframe tbody tr th {\n",
       "        vertical-align: top;\n",
       "    }\n",
       "\n",
       "    .dataframe thead th {\n",
       "        text-align: right;\n",
       "    }\n",
       "</style>\n",
       "<table border=\"1\" class=\"dataframe\">\n",
       "  <thead>\n",
       "    <tr style=\"text-align: right;\">\n",
       "      <th></th>\n",
       "      <th>url</th>\n",
       "      <th>domain_char_continuation_rate</th>\n",
       "      <th>domain_length</th>\n",
       "      <th>is_ip</th>\n",
       "      <th>tld_length</th>\n",
       "      <th>no_of_subdomain</th>\n",
       "      <th>no_of_letters</th>\n",
       "      <th>letter_ratio</th>\n",
       "      <th>no_of_digits</th>\n",
       "      <th>digit_ratio</th>\n",
       "      <th>is_https</th>\n",
       "    </tr>\n",
       "  </thead>\n",
       "  <tbody>\n",
       "    <tr>\n",
       "      <th>14570</th>\n",
       "      <td>https://www.hartwall.fi</td>\n",
       "      <td>1.0</td>\n",
       "      <td>15</td>\n",
       "      <td>0</td>\n",
       "      <td>2.0</td>\n",
       "      <td>1</td>\n",
       "      <td>8</td>\n",
       "      <td>1.0</td>\n",
       "      <td>0</td>\n",
       "      <td>0.0</td>\n",
       "      <td>1</td>\n",
       "    </tr>\n",
       "    <tr>\n",
       "      <th>5670</th>\n",
       "      <td>https://banco--bisabo11.repl.co/</td>\n",
       "      <td>1.0</td>\n",
       "      <td>23</td>\n",
       "      <td>0</td>\n",
       "      <td>2.0</td>\n",
       "      <td>1</td>\n",
       "      <td>4</td>\n",
       "      <td>1.0</td>\n",
       "      <td>0</td>\n",
       "      <td>0.0</td>\n",
       "      <td>1</td>\n",
       "    </tr>\n",
       "    <tr>\n",
       "      <th>16516</th>\n",
       "      <td>https://www.ashleyrenespromandpageant.com</td>\n",
       "      <td>1.0</td>\n",
       "      <td>33</td>\n",
       "      <td>0</td>\n",
       "      <td>3.0</td>\n",
       "      <td>1</td>\n",
       "      <td>25</td>\n",
       "      <td>1.0</td>\n",
       "      <td>0</td>\n",
       "      <td>0.0</td>\n",
       "      <td>1</td>\n",
       "    </tr>\n",
       "    <tr>\n",
       "      <th>48852</th>\n",
       "      <td>https://www.waunakeepubliclibrary.org</td>\n",
       "      <td>1.0</td>\n",
       "      <td>29</td>\n",
       "      <td>0</td>\n",
       "      <td>3.0</td>\n",
       "      <td>1</td>\n",
       "      <td>21</td>\n",
       "      <td>1.0</td>\n",
       "      <td>0</td>\n",
       "      <td>0.0</td>\n",
       "      <td>1</td>\n",
       "    </tr>\n",
       "    <tr>\n",
       "      <th>28292</th>\n",
       "      <td>https://www.theanchorhouse.com</td>\n",
       "      <td>1.0</td>\n",
       "      <td>22</td>\n",
       "      <td>0</td>\n",
       "      <td>3.0</td>\n",
       "      <td>1</td>\n",
       "      <td>14</td>\n",
       "      <td>1.0</td>\n",
       "      <td>0</td>\n",
       "      <td>0.0</td>\n",
       "      <td>1</td>\n",
       "    </tr>\n",
       "    <tr>\n",
       "      <th>...</th>\n",
       "      <td>...</td>\n",
       "      <td>...</td>\n",
       "      <td>...</td>\n",
       "      <td>...</td>\n",
       "      <td>...</td>\n",
       "      <td>...</td>\n",
       "      <td>...</td>\n",
       "      <td>...</td>\n",
       "      <td>...</td>\n",
       "      <td>...</td>\n",
       "      <td>...</td>\n",
       "    </tr>\n",
       "    <tr>\n",
       "      <th>53117</th>\n",
       "      <td>http://vpn287980672.softether.net/~pc119/anz/apib1anzapinetbank.htm</td>\n",
       "      <td>1.0</td>\n",
       "      <td>26</td>\n",
       "      <td>0</td>\n",
       "      <td>3.0</td>\n",
       "      <td>1</td>\n",
       "      <td>9</td>\n",
       "      <td>1.0</td>\n",
       "      <td>0</td>\n",
       "      <td>0.0</td>\n",
       "      <td>0</td>\n",
       "    </tr>\n",
       "    <tr>\n",
       "      <th>61384</th>\n",
       "      <td>https://metafb-tttjcn8.web.app/</td>\n",
       "      <td>1.0</td>\n",
       "      <td>22</td>\n",
       "      <td>0</td>\n",
       "      <td>3.0</td>\n",
       "      <td>1</td>\n",
       "      <td>3</td>\n",
       "      <td>1.0</td>\n",
       "      <td>0</td>\n",
       "      <td>0.0</td>\n",
       "      <td>1</td>\n",
       "    </tr>\n",
       "    <tr>\n",
       "      <th>64346</th>\n",
       "      <td>https://www.chpc.ac.za</td>\n",
       "      <td>1.0</td>\n",
       "      <td>14</td>\n",
       "      <td>0</td>\n",
       "      <td>2.0</td>\n",
       "      <td>2</td>\n",
       "      <td>2</td>\n",
       "      <td>1.0</td>\n",
       "      <td>0</td>\n",
       "      <td>0.0</td>\n",
       "      <td>1</td>\n",
       "    </tr>\n",
       "    <tr>\n",
       "      <th>38636</th>\n",
       "      <td>http://u1995599.cp.regruhosting.ru/</td>\n",
       "      <td>1.0</td>\n",
       "      <td>27</td>\n",
       "      <td>0</td>\n",
       "      <td>2.0</td>\n",
       "      <td>2</td>\n",
       "      <td>12</td>\n",
       "      <td>1.0</td>\n",
       "      <td>0</td>\n",
       "      <td>0.0</td>\n",
       "      <td>0</td>\n",
       "    </tr>\n",
       "    <tr>\n",
       "      <th>4946</th>\n",
       "      <td>https://www.tekkerstv.co.uk</td>\n",
       "      <td>1.0</td>\n",
       "      <td>19</td>\n",
       "      <td>0</td>\n",
       "      <td>2.0</td>\n",
       "      <td>2</td>\n",
       "      <td>2</td>\n",
       "      <td>1.0</td>\n",
       "      <td>0</td>\n",
       "      <td>0.0</td>\n",
       "      <td>1</td>\n",
       "    </tr>\n",
       "  </tbody>\n",
       "</table>\n",
       "<p>13965 rows × 11 columns</p>\n",
       "</div>"
      ],
      "text/plain": [
       "                                                                       url  \\\n",
       "14570                                              https://www.hartwall.fi   \n",
       "5670                                      https://banco--bisabo11.repl.co/   \n",
       "16516                            https://www.ashleyrenespromandpageant.com   \n",
       "48852                                https://www.waunakeepubliclibrary.org   \n",
       "28292                                       https://www.theanchorhouse.com   \n",
       "...                                                                    ...   \n",
       "53117  http://vpn287980672.softether.net/~pc119/anz/apib1anzapinetbank.htm   \n",
       "61384                                      https://metafb-tttjcn8.web.app/   \n",
       "64346                                               https://www.chpc.ac.za   \n",
       "38636                                  http://u1995599.cp.regruhosting.ru/   \n",
       "4946                                           https://www.tekkerstv.co.uk   \n",
       "\n",
       "       domain_char_continuation_rate  domain_length  is_ip  tld_length  \\\n",
       "14570                            1.0             15      0         2.0   \n",
       "5670                             1.0             23      0         2.0   \n",
       "16516                            1.0             33      0         3.0   \n",
       "48852                            1.0             29      0         3.0   \n",
       "28292                            1.0             22      0         3.0   \n",
       "...                              ...            ...    ...         ...   \n",
       "53117                            1.0             26      0         3.0   \n",
       "61384                            1.0             22      0         3.0   \n",
       "64346                            1.0             14      0         2.0   \n",
       "38636                            1.0             27      0         2.0   \n",
       "4946                             1.0             19      0         2.0   \n",
       "\n",
       "       no_of_subdomain  no_of_letters  letter_ratio  no_of_digits  \\\n",
       "14570                1              8           1.0             0   \n",
       "5670                 1              4           1.0             0   \n",
       "16516                1             25           1.0             0   \n",
       "48852                1             21           1.0             0   \n",
       "28292                1             14           1.0             0   \n",
       "...                ...            ...           ...           ...   \n",
       "53117                1              9           1.0             0   \n",
       "61384                1              3           1.0             0   \n",
       "64346                2              2           1.0             0   \n",
       "38636                2             12           1.0             0   \n",
       "4946                 2              2           1.0             0   \n",
       "\n",
       "       digit_ratio  is_https  \n",
       "14570          0.0         1  \n",
       "5670           0.0         1  \n",
       "16516          0.0         1  \n",
       "48852          0.0         1  \n",
       "28292          0.0         1  \n",
       "...            ...       ...  \n",
       "53117          0.0         0  \n",
       "61384          0.0         1  \n",
       "64346          0.0         1  \n",
       "38636          0.0         0  \n",
       "4946           0.0         1  \n",
       "\n",
       "[13965 rows x 11 columns]"
      ]
     },
     "execution_count": null,
     "metadata": {},
     "output_type": "execute_result"
    }
   ],
   "source": [
    "X_test"
   ]
  },
  {
   "cell_type": "markdown",
   "id": "2d774038e28c68de",
   "metadata": {},
   "source": [
    "## Load Model"
   ]
  },
  {
   "cell_type": "code",
   "execution_count": null,
   "id": "24029d0510012c5f",
   "metadata": {},
   "outputs": [],
   "source": [
    "from joblib import load\n",
    "\n",
    "pipeline = load('../models/random_forest_with_pipeline.joblib')"
   ]
  },
  {
   "cell_type": "markdown",
   "id": "83c8b082b8d438c7",
   "metadata": {},
   "source": [
    "## Pre-trained Model"
   ]
  },
  {
   "cell_type": "code",
   "execution_count": null,
   "id": "4c6225c0e0c15930",
   "metadata": {},
   "outputs": [],
   "source": [
    "import re\n",
    "import os\n",
    "from openai import OpenAI\n",
    "from dotenv import load_dotenv\n",
    "\n",
    "# Load the API key from the .env file\n",
    "load_dotenv()\n",
    "\n",
    "OPENROUTER_API_KEY = os.getenv(\"OPENROUTER_API_KEY\")\n",
    "\n",
    "# Create a client\n",
    "client = OpenAI(\n",
    "    base_url=\"https://openrouter.ai/api/v1\",\n",
    "    api_key=OPENROUTER_API_KEY,\n",
    ")\n",
    "\n",
    "\n",
    "def is_phishing(guess: bool):\n",
    "    return guess\n",
    "\n",
    "\n",
    "# \"function definitions\" for the OpenAI API. This helps the model understand what the functions are supposed to do.\n",
    "tools = [\n",
    "    {\n",
    "        \"type\": \"function\",\n",
    "        \"function\": {\n",
    "            \"name\": \"is_phishing\",\n",
    "            \"description\": \"Determines if this URL is a phishing website.\",\n",
    "            \"parameters\": {\n",
    "                \"type\": \"object\",\n",
    "                \"properties\": {\n",
    "                    \"guess\": {\n",
    "                        \"type\": \"boolean\",\n",
    "                        \"description\": \"The guess of whether the website is a phishing website.\",\n",
    "                    },\n",
    "                },\n",
    "                \"required\": [\"guess\"],\n",
    "                \"additionalProperties\": False,\n",
    "            },\n",
    "        },\n",
    "    },\n",
    "]\n",
    "\n",
    "\n",
    "def classify_url(url: str, model: str = \"openai/gpt-3.5-turbo\"):\n",
    "    # Prompt the model\n",
    "    messages = [\n",
    "        {\n",
    "            \"role\": \"system\",\n",
    "            \"content\": \"You are a website security tool. You have been asked to determine if the following URL is a phishing website.\",\n",
    "        },\n",
    "        {\n",
    "            \"role\": \"user\",\n",
    "            \"content\": f\"This is the URL of the website: {url}\",\n",
    "        },\n",
    "    ]\n",
    "\n",
    "    # Make a request to the API\n",
    "    response = client.chat.completions.create(\n",
    "        model=model,\n",
    "        messages=messages,\n",
    "        tools=tools,\n",
    "        stream=False,  # Return all messages at once\n",
    "        parallel_tool_calls=True,  # Functions can be called in parallel - no need to be executed sequentially\n",
    "        tool_choice=\"required\",  # Forces the assistant to use the tools\n",
    "        temperature=0.0,  # No randomness/creativity in the responses,\n",
    "    )\n",
    "\n",
    "    for choice in response.choices:\n",
    "        if choice.message.tool_calls:\n",
    "            # Arguments are passed as a JSON string\n",
    "            tool_call = choice.message.tool_calls[0]\n",
    "            # Parse arguments as JSON\n",
    "            arguments = json.loads(tool_call.function.arguments)\n",
    "            # Extract the guessed value\n",
    "            guess = arguments['guess']\n",
    "            return guess\n",
    "        if choice.message.content:\n",
    "            # Some Non-OpenAI models returns tool_calls as part of the message content (as a string)\n",
    "            # Extract the JSON part using regex\n",
    "            content = choice.message.content\n",
    "            json_str = re.search(r'\\[TOOL_CALLS\\] (\\[.*?\\])', content).group(1)\n",
    "            # Parse the JSON\n",
    "            tool_calls = json.loads(json_str)\n",
    "            tool_call = tool_calls[0]\n",
    "            # Extract the guessed value\n",
    "            guess = tool_call['arguments']['guess']\n",
    "            return guess"
   ]
  },
  {
   "cell_type": "markdown",
   "id": "b7daa9501a6cef67",
   "metadata": {},
   "source": [
    "## Model Evaluation"
   ]
  },
  {
   "cell_type": "code",
   "execution_count": null,
   "id": "9243f65ea1cca714",
   "metadata": {},
   "outputs": [],
   "source": [
    "# Initialize the metrics dictionary to store the evaluation metrics\n",
    "metrics = {}"
   ]
  },
  {
   "cell_type": "code",
   "execution_count": null,
   "id": "f8e096f95ca9ffe5",
   "metadata": {},
   "outputs": [],
   "source": [
    "def custom_predict(model, data_frame: pd.DataFrame, legitimate_threshold=0.5, phishing_threshold=0.5):\n",
    "    X = data_frame.drop(columns=[\"url\"], axis=1)\n",
    "    probs = model.predict_proba(X)[:, 1]  # Probability of being spam\n",
    "    predictions = model.predict(X)\n",
    "\n",
    "    for i in range(len(predictions)):\n",
    "        if probs[i] >= phishing_threshold:\n",
    "            predictions[i] = 1\n",
    "        elif probs[i] <= legitimate_threshold:\n",
    "            predictions[i] = 0\n",
    "        else:\n",
    "            try:\n",
    "                prediction = classify_url(data_frame.iloc[i][\"url\"], model=\"mistralai/ministral-8b\")\n",
    "                #prediction = classify_url(data_frame.iloc[i][\"url\"], model=\"mistralai/ministral-3b\")\n",
    "                #prediction = classify_url(data_frame.iloc[i][\"url\"], model=\"openai/gpt-4o-mini\")\n",
    "                #prediction = classify_url(data_frame.iloc[i][\"url\"], model=\"openai/gpt-4o-2024-11-20\")\n",
    "                #prediction = classify_url(data_frame.iloc[i][\"url\"], model=\"anthropic/claude-3-5-haiku-20241022:beta\")\n",
    "                #prediction = classify_url(data_frame.iloc[i][\"url\"], model=\"anthropic/claude-3.5-sonnet\")\n",
    "                predictions[i] = int(prediction)\n",
    "            except Exception as e:\n",
    "                print(f\"Error: {e}\")\n",
    "                print(f\"URL: {data_frame.iloc[i]['url']}\")\n",
    "                predictions[i] = 1  # Assume phishing if there's an error\n",
    "\n",
    "    return probs, predictions"
   ]
  },
  {
   "cell_type": "code",
   "execution_count": null,
   "id": "cf3dd9382b1ecb15",
   "metadata": {},
   "outputs": [],
   "source": [
    "y_proba, y_pred = custom_predict(pipeline, X_test, legitimate_threshold=0.2, phishing_threshold=0.8)"
   ]
  },
  {
   "cell_type": "code",
   "execution_count": null,
   "id": "42f48c14497068cc",
   "metadata": {},
   "outputs": [
    {
     "data": {
      "text/plain": [
       "(array([8063.,  134.,   69.,   39.,   25.,   25.,   30.,   11.,   36.,\n",
       "        5533.]),\n",
       " array([0. , 0.1, 0.2, 0.3, 0.4, 0.5, 0.6, 0.7, 0.8, 0.9, 1. ]),\n",
       " <BarContainer object of 10 artists>)"
      ]
     },
     "execution_count": null,
     "metadata": {},
     "output_type": "execute_result"
    },
    {
     "data": {
      "image/png": "[encoded data removed]",
      "text/plain": [
       "<Figure size 640x480 with 1 Axes>"
      ]
     },
     "metadata": {},
     "output_type": "display_data"
    }
   ],
   "source": [
    "import matplotlib.pyplot as plt\n",
    "\n",
    "plt.hist(y_proba, bins=10, edgecolor='black')"
   ]
  },
  {
   "cell_type": "markdown",
   "id": "d650c5cd8543a227",
   "metadata": {},
   "source": [
    "### Measuring Accuracy"
   ]
  },
  {
   "cell_type": "code",
   "execution_count": null,
   "id": "af7f2eb93722b3ce",
   "metadata": {},
   "outputs": [
    {
     "name": "stdout",
     "output_type": "stream",
     "text": [
      "0.9858933046902971\n"
     ]
    }
   ],
   "source": [
    "from sklearn.metrics import accuracy_score\n",
    "\n",
    "accuracy = accuracy_score(y_test, y_pred)\n",
    "metrics[\"accuracy\"] = accuracy\n",
    "\n",
    "print(accuracy)"
   ]
  },
  {
   "cell_type": "markdown",
   "id": "677265dd1e5356c",
   "metadata": {},
   "source": [
    "### Confusion Matrix"
   ]
  },
  {
   "cell_type": "code",
   "execution_count": null,
   "id": "ac5baf10bc3ca461",
   "metadata": {},
   "outputs": [
    {
     "data": {
      "text/plain": [
       "array([[8145,   84],\n",
       "       [ 113, 5623]])"
      ]
     },
     "execution_count": null,
     "metadata": {},
     "output_type": "execute_result"
    }
   ],
   "source": [
    "from sklearn.metrics import confusion_matrix\n",
    "\n",
    "confusion_matrix(y_test, y_pred)"
   ]
  },
  {
   "cell_type": "markdown",
   "id": "f2ef6d29809633e6",
   "metadata": {},
   "source": [
    "### Precision, Recall, F1 Score"
   ]
  },
  {
   "cell_type": "code",
   "execution_count": null,
   "id": "5607f2c3535ea257",
   "metadata": {},
   "outputs": [
    {
     "name": "stdout",
     "output_type": "stream",
     "text": [
      "{\n",
      "    \"accuracy\": 0.9858933046902971,\n",
      "    \"precision\": 0.9858911552518851,\n",
      "    \"recall\": 0.9858933046902971,\n",
      "    \"f1\": 0.9858878359559113,\n",
      "    \"false_positive_rate\": 0.01020780167699599,\n",
      "    \"false_negative_rate\": 0.019700139470013946\n",
      "}\n"
     ]
    }
   ],
   "source": [
    "import json\n",
    "from sklearn.metrics import precision_recall_fscore_support\n",
    "\n",
    "overall_metrics = precision_recall_fscore_support(y_test, y_pred, average=\"weighted\")\n",
    "metrics[\"precision\"] = overall_metrics[0]\n",
    "metrics[\"recall\"] = overall_metrics[1]\n",
    "metrics[\"f1\"] = overall_metrics[2]\n",
    "metrics[\"false_positive_rate\"] = confusion_matrix(y_test, y_pred)[0, 1] / y_test.value_counts()[\n",
    "    0]  # Legitimate classified as phishing (Type I error)\n",
    "metrics[\"false_negative_rate\"] = confusion_matrix(y_test, y_pred)[1, 0] / y_test.value_counts()[\n",
    "    1]  # Phishing classified as legitimate (Type II error)\n",
    "\n",
    "print(json.dumps(metrics, indent=4))"
   ]
  }
 ],
 "metadata": {
  "kernelspec": {
   "display_name": "Python 3",
   "language": "python",
   "name": "python3"
  },
  "language_info": {
   "codemirror_mode": {
    "name": "ipython",
    "version": 2
   },
   "file_extension": ".py",
   "mimetype": "text/x-python",
   "name": "python",
   "nbconvert_exporter": "python",
   "pygments_lexer": "ipython2"
  }
 },
 "nbformat": 4,
 "nbformat_minor": 5
}
